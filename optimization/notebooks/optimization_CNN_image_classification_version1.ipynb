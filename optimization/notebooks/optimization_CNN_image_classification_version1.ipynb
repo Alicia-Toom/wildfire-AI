{
  "nbformat": 4,
  "nbformat_minor": 0,
  "metadata": {
    "colab": {
      "provenance": [],
      "toc_visible": true,
      "include_colab_link": true
    },
    "kernelspec": {
      "name": "python3",
      "display_name": "Python 3"
    },
    "language_info": {
      "name": "python"
    },
    "accelerator": "GPU",
    "gpuClass": "standard"
  },
  "cells": [
    {
      "cell_type": "markdown",
      "metadata": {
        "id": "view-in-github",
        "colab_type": "text"
      },
      "source": [
        "<a href=\"https://colab.research.google.com/github/Antonsen2/wildfire-ai/blob/research/optimization/notebooks/optimization_CNN_image_classification_version1.ipynb\" target=\"_parent\"><img src=\"https://colab.research.google.com/assets/colab-badge.svg\" alt=\"Open In Colab\"/></a>"
      ]
    },
    {
      "cell_type": "code",
      "execution_count": 2,
      "metadata": {
        "id": "hpMLpbt9jcO6",
        "colab": {
          "base_uri": "https://localhost:8080/"
        },
        "outputId": "1f9e2fb5-a95c-4d6c-a95c-f4ba12572bb8"
      },
      "outputs": [
        {
          "output_type": "stream",
          "name": "stdout",
          "text": [
            "\u001b[2K     \u001b[90m━━━━━━━━━━━━━━━━━━━━━━━━━━━━━━━━━━━━━━\u001b[0m \u001b[32m169.6/169.6 KB\u001b[0m \u001b[31m14.8 MB/s\u001b[0m eta \u001b[36m0:00:00\u001b[0m\n",
            "\u001b[2K     \u001b[90m━━━━━━━━━━━━━━━━━━━━━━━━━━━━━━━━━━━━━━━━\u001b[0m \u001b[32m1.6/1.6 MB\u001b[0m \u001b[31m75.9 MB/s\u001b[0m eta \u001b[36m0:00:00\u001b[0m\n",
            "\u001b[?25h"
          ]
        }
      ],
      "source": [
        "!pip install -q -U keras-tuner"
      ]
    },
    {
      "cell_type": "markdown",
      "source": [
        "# Set up\n"
      ],
      "metadata": {
        "id": "NmUeNxhGmXLO"
      }
    },
    {
      "cell_type": "markdown",
      "source": [
        "**In the setup section, we import a variety of libraries and modules that will be used in this optimization project. **"
      ],
      "metadata": {
        "id": "5_0Xpkq0mvfB"
      }
    },
    {
      "cell_type": "code",
      "source": [
        "import keras_tuner\n",
        "import os.path\n",
        "import itertools\n",
        "import tensorflow as tf\n",
        "import pandas as pd\n",
        "import numpy as np\n",
        "import matplotlib.pyplot as plt\n",
        "from pathlib import Path\n",
        "\n",
        "from tensorflow import keras\n",
        "from pathlib import Path\n",
        "from sklearn.model_selection import train_test_split\n",
        "from keras_preprocessing.image import ImageDataGenerator\n",
        "from sklearn.model_selection import train_test_split\n",
        "from sklearn.metrics import classification_report, confusion_matrix\n",
        "from PIL import Image\n",
        "\n",
        "from tensorflow.keras import layers, models\n",
        "from keras_preprocessing.image import ImageDataGenerator\n",
        "from keras.layers import Dense, Dropout\n",
        "from tensorflow.keras.callbacks import Callback, EarlyStopping, ModelCheckpoint\n",
        "from tensorflow.keras.optimizers import Adam\n",
        "from tensorflow.keras.applications import MobileNetV2\n",
        "from tensorflow.keras import Model\n",
        "from tensorflow.keras.layers.experimental import preprocessing"
      ],
      "metadata": {
        "id": "TDQuj3-BxyuX"
      },
      "execution_count": 3,
      "outputs": []
    },
    {
      "cell_type": "markdown",
      "source": [
        "The !wget statement downloads a helper file called helper_functions.py, which contains functions that will be used in this optimization project."
      ],
      "metadata": {
        "id": "Kiu5OytonswF"
      }
    },
    {
      "cell_type": "code",
      "source": [
        "!wget https://raw.githubusercontent.com/mrdbourke/tensorflow-deep-learning/main/extras/helper_functions.py\n",
        "\n",
        "from helper_functions import create_tensorboard_callback, plot_loss_curves, unzip_data, compare_historys, walk_through_dir, pred_and_plot"
      ],
      "metadata": {
        "colab": {
          "base_uri": "https://localhost:8080/"
        },
        "id": "rGrBfcQdkByU",
        "outputId": "b41d53e8-804a-4158-c844-86353b9f5285"
      },
      "execution_count": 4,
      "outputs": [
        {
          "output_type": "stream",
          "name": "stdout",
          "text": [
            "--2023-02-10 09:59:42--  https://raw.githubusercontent.com/mrdbourke/tensorflow-deep-learning/main/extras/helper_functions.py\n",
            "Resolving raw.githubusercontent.com (raw.githubusercontent.com)... 185.199.110.133, 185.199.109.133, 185.199.108.133, ...\n",
            "Connecting to raw.githubusercontent.com (raw.githubusercontent.com)|185.199.110.133|:443... connected.\n",
            "HTTP request sent, awaiting response... 200 OK\n",
            "Length: 10246 (10K) [text/plain]\n",
            "Saving to: ‘helper_functions.py’\n",
            "\n",
            "\rhelper_functions.py   0%[                    ]       0  --.-KB/s               \rhelper_functions.py 100%[===================>]  10.01K  --.-KB/s    in 0s      \n",
            "\n",
            "2023-02-10 09:59:42 (50.6 MB/s) - ‘helper_functions.py’ saved [10246/10246]\n",
            "\n"
          ]
        }
      ]
    },
    {
      "cell_type": "markdown",
      "source": [
        "## Load dataset"
      ],
      "metadata": {
        "id": "-8bXAd5qx_Sb"
      }
    },
    {
      "cell_type": "markdown",
      "source": [
        "*Mount the Google Drive to the Colab runtime and to set up variables to access the data stored in a directory in the Google Drive*"
      ],
      "metadata": {
        "id": "jAXHrqSXoPCh"
      }
    },
    {
      "cell_type": "code",
      "source": [
        "from google.colab import drive\n",
        "drive.mount('/content/drive')"
      ],
      "metadata": {
        "colab": {
          "base_uri": "https://localhost:8080/"
        },
        "id": "5UyXO7VwyD8T",
        "outputId": "3ff1ed75-794b-46dd-ca85-a1730fe8194a"
      },
      "execution_count": 5,
      "outputs": [
        {
          "output_type": "stream",
          "name": "stdout",
          "text": [
            "Mounted at /content/drive\n"
          ]
        }
      ]
    },
    {
      "cell_type": "code",
      "source": [
        "DATA_PATH = '/content/drive/MyDrive/full'\n",
        "IMG_DIR = Path(DATA_PATH)"
      ],
      "metadata": {
        "id": "LkibyC7C1s11"
      },
      "execution_count": 6,
      "outputs": []
    },
    {
      "cell_type": "code",
      "source": [
        "walk_through_dir(DATA_PATH)"
      ],
      "metadata": {
        "colab": {
          "base_uri": "https://localhost:8080/"
        },
        "id": "J0jOKrTZi5o8",
        "outputId": "85944ce9-57a4-46b9-f819-e89c979f79a3"
      },
      "execution_count": 7,
      "outputs": [
        {
          "output_type": "stream",
          "name": "stdout",
          "text": [
            "There are 3 directories and 0 images in '/content/drive/MyDrive/full'.\n",
            "There are 0 directories and 2071 images in '/content/drive/MyDrive/full/fire'.\n",
            "There are 0 directories and 2150 images in '/content/drive/MyDrive/full/satellite'.\n",
            "There are 0 directories and 500 images in '/content/drive/MyDrive/full/nonfire'.\n"
          ]
        }
      ]
    },
    {
      "cell_type": "markdown",
      "source": [
        "## Prepare Dataset"
      ],
      "metadata": {
        "id": "Gop18sAa5wy2"
      }
    },
    {
      "cell_type": "markdown",
      "source": [
        "**This section of code is preparing a dataset for a machine learning model. It starts by defining a function split_df that takes a DataFrame, a list of columns, and several keyword arguments, and returns a new DataFrame. **"
      ],
      "metadata": {
        "id": "LcriAg56pdP6"
      }
    },
    {
      "cell_type": "code",
      "source": [
        "def split_df(df: pd.DataFrame, cols: list, **kwargs) -> pd.DataFrame:\n",
        "    df1 = pd.DataFrame()\n",
        "\n",
        "    for k, v in kwargs.items():\n",
        "        df2 = df.loc[df['Label'] == k][cols].sample(n=v)\n",
        "        df1 = pd.concat([df1, df2])\n",
        "\n",
        "    df1.index = range(len(df1))\n",
        "    return df1"
      ],
      "metadata": {
        "id": "5xW_Rs6S55bq"
      },
      "execution_count": 8,
      "outputs": []
    },
    {
      "cell_type": "markdown",
      "source": [
        "**Creates a list of file paths for all the images in the directory specified by the constant IMG_DIR and a corresponding list of labels based on the subdirectory name of each image. **"
      ],
      "metadata": {
        "id": "1L2OMsqrp4N3"
      }
    },
    {
      "cell_type": "code",
      "source": [
        "filepaths = list(IMG_DIR.glob(r'**/*.JPG')) + list(IMG_DIR.glob(r'**/*.jpg')) + list(IMG_DIR.glob(r'**/*.png'))\n",
        "labels = list(map(lambda x: os.path.split(os.path.split(x)[0])[1], filepaths))\n",
        "\n",
        "filepaths = pd.Series(filepaths, name='Filepath').astype(str)\n",
        "labels = pd.Series(labels, name='Label')\n",
        "\n",
        "image_df = pd.concat([filepaths, labels], axis=1)\n",
        "image_df"
      ],
      "metadata": {
        "colab": {
          "base_uri": "https://localhost:8080/",
          "height": 424
        },
        "id": "yHXN4KYv8CHM",
        "outputId": "690c229c-f766-4160-c038-8b51d0708055"
      },
      "execution_count": 9,
      "outputs": [
        {
          "output_type": "execute_result",
          "data": {
            "text/plain": [
              "                                               Filepath    Label\n",
              "0         /content/drive/MyDrive/full/fire/fire-837.jpg     fire\n",
              "1        /content/drive/MyDrive/full/fire/fire-1095.jpg     fire\n",
              "2         /content/drive/MyDrive/full/fire/fire-759.jpg     fire\n",
              "3        /content/drive/MyDrive/full/fire/fire-1047.jpg     fire\n",
              "4         /content/drive/MyDrive/full/fire/fire-821.jpg     fire\n",
              "...                                                 ...      ...\n",
              "4716  /content/drive/MyDrive/full/nonfire/forest-396...  nonfire\n",
              "4717  /content/drive/MyDrive/full/nonfire/forest-401...  nonfire\n",
              "4718  /content/drive/MyDrive/full/nonfire/forest-381...  nonfire\n",
              "4719  /content/drive/MyDrive/full/nonfire/forest-458...  nonfire\n",
              "4720  /content/drive/MyDrive/full/nonfire/forest-424...  nonfire\n",
              "\n",
              "[4721 rows x 2 columns]"
            ],
            "text/html": [
              "\n",
              "  <div id=\"df-1ff8af6e-c8bd-41f6-ae31-b9fa4938c06b\">\n",
              "    <div class=\"colab-df-container\">\n",
              "      <div>\n",
              "<style scoped>\n",
              "    .dataframe tbody tr th:only-of-type {\n",
              "        vertical-align: middle;\n",
              "    }\n",
              "\n",
              "    .dataframe tbody tr th {\n",
              "        vertical-align: top;\n",
              "    }\n",
              "\n",
              "    .dataframe thead th {\n",
              "        text-align: right;\n",
              "    }\n",
              "</style>\n",
              "<table border=\"1\" class=\"dataframe\">\n",
              "  <thead>\n",
              "    <tr style=\"text-align: right;\">\n",
              "      <th></th>\n",
              "      <th>Filepath</th>\n",
              "      <th>Label</th>\n",
              "    </tr>\n",
              "  </thead>\n",
              "  <tbody>\n",
              "    <tr>\n",
              "      <th>0</th>\n",
              "      <td>/content/drive/MyDrive/full/fire/fire-837.jpg</td>\n",
              "      <td>fire</td>\n",
              "    </tr>\n",
              "    <tr>\n",
              "      <th>1</th>\n",
              "      <td>/content/drive/MyDrive/full/fire/fire-1095.jpg</td>\n",
              "      <td>fire</td>\n",
              "    </tr>\n",
              "    <tr>\n",
              "      <th>2</th>\n",
              "      <td>/content/drive/MyDrive/full/fire/fire-759.jpg</td>\n",
              "      <td>fire</td>\n",
              "    </tr>\n",
              "    <tr>\n",
              "      <th>3</th>\n",
              "      <td>/content/drive/MyDrive/full/fire/fire-1047.jpg</td>\n",
              "      <td>fire</td>\n",
              "    </tr>\n",
              "    <tr>\n",
              "      <th>4</th>\n",
              "      <td>/content/drive/MyDrive/full/fire/fire-821.jpg</td>\n",
              "      <td>fire</td>\n",
              "    </tr>\n",
              "    <tr>\n",
              "      <th>...</th>\n",
              "      <td>...</td>\n",
              "      <td>...</td>\n",
              "    </tr>\n",
              "    <tr>\n",
              "      <th>4716</th>\n",
              "      <td>/content/drive/MyDrive/full/nonfire/forest-396...</td>\n",
              "      <td>nonfire</td>\n",
              "    </tr>\n",
              "    <tr>\n",
              "      <th>4717</th>\n",
              "      <td>/content/drive/MyDrive/full/nonfire/forest-401...</td>\n",
              "      <td>nonfire</td>\n",
              "    </tr>\n",
              "    <tr>\n",
              "      <th>4718</th>\n",
              "      <td>/content/drive/MyDrive/full/nonfire/forest-381...</td>\n",
              "      <td>nonfire</td>\n",
              "    </tr>\n",
              "    <tr>\n",
              "      <th>4719</th>\n",
              "      <td>/content/drive/MyDrive/full/nonfire/forest-458...</td>\n",
              "      <td>nonfire</td>\n",
              "    </tr>\n",
              "    <tr>\n",
              "      <th>4720</th>\n",
              "      <td>/content/drive/MyDrive/full/nonfire/forest-424...</td>\n",
              "      <td>nonfire</td>\n",
              "    </tr>\n",
              "  </tbody>\n",
              "</table>\n",
              "<p>4721 rows × 2 columns</p>\n",
              "</div>\n",
              "      <button class=\"colab-df-convert\" onclick=\"convertToInteractive('df-1ff8af6e-c8bd-41f6-ae31-b9fa4938c06b')\"\n",
              "              title=\"Convert this dataframe to an interactive table.\"\n",
              "              style=\"display:none;\">\n",
              "        \n",
              "  <svg xmlns=\"http://www.w3.org/2000/svg\" height=\"24px\"viewBox=\"0 0 24 24\"\n",
              "       width=\"24px\">\n",
              "    <path d=\"M0 0h24v24H0V0z\" fill=\"none\"/>\n",
              "    <path d=\"M18.56 5.44l.94 2.06.94-2.06 2.06-.94-2.06-.94-.94-2.06-.94 2.06-2.06.94zm-11 1L8.5 8.5l.94-2.06 2.06-.94-2.06-.94L8.5 2.5l-.94 2.06-2.06.94zm10 10l.94 2.06.94-2.06 2.06-.94-2.06-.94-.94-2.06-.94 2.06-2.06.94z\"/><path d=\"M17.41 7.96l-1.37-1.37c-.4-.4-.92-.59-1.43-.59-.52 0-1.04.2-1.43.59L10.3 9.45l-7.72 7.72c-.78.78-.78 2.05 0 2.83L4 21.41c.39.39.9.59 1.41.59.51 0 1.02-.2 1.41-.59l7.78-7.78 2.81-2.81c.8-.78.8-2.07 0-2.86zM5.41 20L4 18.59l7.72-7.72 1.47 1.35L5.41 20z\"/>\n",
              "  </svg>\n",
              "      </button>\n",
              "      \n",
              "  <style>\n",
              "    .colab-df-container {\n",
              "      display:flex;\n",
              "      flex-wrap:wrap;\n",
              "      gap: 12px;\n",
              "    }\n",
              "\n",
              "    .colab-df-convert {\n",
              "      background-color: #E8F0FE;\n",
              "      border: none;\n",
              "      border-radius: 50%;\n",
              "      cursor: pointer;\n",
              "      display: none;\n",
              "      fill: #1967D2;\n",
              "      height: 32px;\n",
              "      padding: 0 0 0 0;\n",
              "      width: 32px;\n",
              "    }\n",
              "\n",
              "    .colab-df-convert:hover {\n",
              "      background-color: #E2EBFA;\n",
              "      box-shadow: 0px 1px 2px rgba(60, 64, 67, 0.3), 0px 1px 3px 1px rgba(60, 64, 67, 0.15);\n",
              "      fill: #174EA6;\n",
              "    }\n",
              "\n",
              "    [theme=dark] .colab-df-convert {\n",
              "      background-color: #3B4455;\n",
              "      fill: #D2E3FC;\n",
              "    }\n",
              "\n",
              "    [theme=dark] .colab-df-convert:hover {\n",
              "      background-color: #434B5C;\n",
              "      box-shadow: 0px 1px 3px 1px rgba(0, 0, 0, 0.15);\n",
              "      filter: drop-shadow(0px 1px 2px rgba(0, 0, 0, 0.3));\n",
              "      fill: #FFFFFF;\n",
              "    }\n",
              "  </style>\n",
              "\n",
              "      <script>\n",
              "        const buttonEl =\n",
              "          document.querySelector('#df-1ff8af6e-c8bd-41f6-ae31-b9fa4938c06b button.colab-df-convert');\n",
              "        buttonEl.style.display =\n",
              "          google.colab.kernel.accessAllowed ? 'block' : 'none';\n",
              "\n",
              "        async function convertToInteractive(key) {\n",
              "          const element = document.querySelector('#df-1ff8af6e-c8bd-41f6-ae31-b9fa4938c06b');\n",
              "          const dataTable =\n",
              "            await google.colab.kernel.invokeFunction('convertToInteractive',\n",
              "                                                     [key], {});\n",
              "          if (!dataTable) return;\n",
              "\n",
              "          const docLinkHtml = 'Like what you see? Visit the ' +\n",
              "            '<a target=\"_blank\" href=https://colab.research.google.com/notebooks/data_table.ipynb>data table notebook</a>'\n",
              "            + ' to learn more about interactive tables.';\n",
              "          element.innerHTML = '';\n",
              "          dataTable['output_type'] = 'display_data';\n",
              "          await google.colab.output.renderOutput(dataTable, element);\n",
              "          const docLink = document.createElement('div');\n",
              "          docLink.innerHTML = docLinkHtml;\n",
              "          element.appendChild(docLink);\n",
              "        }\n",
              "      </script>\n",
              "    </div>\n",
              "  </div>\n",
              "  "
            ]
          },
          "metadata": {},
          "execution_count": 9
        }
      ]
    },
    {
      "cell_type": "markdown",
      "source": [],
      "metadata": {
        "id": "qF-c-2NuqQsg"
      }
    },
    {
      "cell_type": "code",
      "source": [
        "train_generator = ImageDataGenerator(\n",
        "    preprocessing_function=tf.keras.applications.mobilenet_v2.preprocess_input,\n",
        "    validation_split=0.2\n",
        ")\n",
        "\n",
        "test_generator = ImageDataGenerator(\n",
        "    preprocessing_function=tf.keras.applications.mobilenet_v2.preprocess_input\n",
        ")"
      ],
      "metadata": {
        "id": "znVla4FNkVcc"
      },
      "execution_count": 10,
      "outputs": []
    },
    {
      "cell_type": "code",
      "source": [
        "df_full = split_df(\n",
        "    df=image_df.copy(),\n",
        "    cols=['Filepath', 'Label'],\n",
        "    fire=2071,\n",
        "    nonfire=500\n",
        ")"
      ],
      "metadata": {
        "id": "s-BYR7b0ka4Q"
      },
      "execution_count": 11,
      "outputs": []
    },
    {
      "cell_type": "code",
      "execution_count": 12,
      "metadata": {
        "id": "YOS4oha2XES9"
      },
      "outputs": [],
      "source": [
        "train_df, test_df = train_test_split(\n",
        "    df_full, test_size=0.2, shuffle=True, random_state=42\n",
        ")"
      ]
    },
    {
      "cell_type": "code",
      "source": [
        "BATCH_SIZE = 32\n",
        "IMG_SIZE = (224, 224)\n",
        "RANDOM_SEED = 42"
      ],
      "metadata": {
        "id": "5G8kgEP0fEIh"
      },
      "execution_count": 13,
      "outputs": []
    },
    {
      "cell_type": "code",
      "source": [
        "train_images = train_generator.flow_from_dataframe(\n",
        "    dataframe=train_df,\n",
        "    x_col='Filepath',\n",
        "    y_col='Label',\n",
        "    target_size=IMG_SIZE,\n",
        "    color_mode='rgb',\n",
        "    class_mode='categorical',\n",
        "    batch_size=BATCH_SIZE,\n",
        "    shuffle=True,\n",
        "    seed=RANDOM_SEED,\n",
        "    subset='training'\n",
        ")\n",
        "\n",
        "val_images = train_generator.flow_from_dataframe(\n",
        "    dataframe=train_df,\n",
        "    x_col='Filepath',\n",
        "    y_col='Label',\n",
        "    target_size=IMG_SIZE,\n",
        "    color_mode='rgb',\n",
        "    class_mode='categorical',\n",
        "    batch_size=BATCH_SIZE,\n",
        "    shuffle=True,\n",
        "    seed=RANDOM_SEED,\n",
        "    subset='validation'\n",
        ")\n",
        "\n",
        "test_images = test_generator.flow_from_dataframe(\n",
        "    dataframe=test_df,\n",
        "    x_col='Filepath',\n",
        "    y_col='Label',\n",
        "    target_size=IMG_SIZE,\n",
        "    color_mode='rgb',\n",
        "    class_mode='categorical',\n",
        "    batch_size=BATCH_SIZE,\n",
        "    shuffle=False\n",
        ")"
      ],
      "metadata": {
        "colab": {
          "base_uri": "https://localhost:8080/"
        },
        "id": "wIsqjFZDP8Wu",
        "outputId": "05a333e5-d876-4d87-ac1a-500cf15f66b9"
      },
      "execution_count": 14,
      "outputs": [
        {
          "output_type": "stream",
          "name": "stdout",
          "text": [
            "Found 1645 validated image filenames belonging to 2 classes.\n",
            "Found 411 validated image filenames belonging to 2 classes.\n",
            "Found 515 validated image filenames belonging to 2 classes.\n"
          ]
        }
      ]
    },
    {
      "cell_type": "markdown",
      "source": [
        "# Frist training"
      ],
      "metadata": {
        "id": "9lvoWJdOeIa7"
      }
    },
    {
      "cell_type": "markdown",
      "source": [
        "*Sets up two callbacks for the training process of a machine learning model: a ModelCheckpoint and an EarlyStopping callback: The ModelCheckpoint callback is used to save the best weights of the model during training. The EarlyStopping callback is used to stop the training process when the validation loss plateaus*"
      ],
      "metadata": {
        "id": "cjOzEpT9qx3z"
      }
    },
    {
      "cell_type": "code",
      "source": [
        "checkpoint_path = \"fires_classification_model_checkpoint\"\n",
        "checkpoint_callback = ModelCheckpoint(\n",
        "    checkpoint_path,\n",
        "    save_weights_only=True,\n",
        "    monitor=\"val_accuracy\",\n",
        "    save_best_only=True\n",
        ")\n",
        "early_stopping = EarlyStopping(\n",
        "    monitor = \"val_loss\",\n",
        "    patience = 5,\n",
        "    restore_best_weights = True\n",
        ")"
      ],
      "metadata": {
        "id": "RzkjqsPLoN-A"
      },
      "execution_count": 15,
      "outputs": []
    },
    {
      "cell_type": "markdown",
      "source": [
        "*Creates a MobileNetV2 object using the MobileNetV2 class from the TensorFlow applications module. This is a pre-trained deep learning model that has been trained on the ImageNet dataset.*"
      ],
      "metadata": {
        "id": "J3aACjjgrOLh"
      }
    },
    {
      "cell_type": "code",
      "source": [
        "    pretrained_model = MobileNetV2(\n",
        "      input_shape=IMG_SIZE+ (3,),\n",
        "      include_top=False,\n",
        "      weights='imagenet',\n",
        "      pooling='avg')"
      ],
      "metadata": {
        "id": "v1_EbIaWot47",
        "colab": {
          "base_uri": "https://localhost:8080/"
        },
        "outputId": "9fab22e6-bcca-4184-d01b-0342a5a2ce9c"
      },
      "execution_count": 16,
      "outputs": [
        {
          "output_type": "stream",
          "name": "stdout",
          "text": [
            "Downloading data from https://storage.googleapis.com/tensorflow/keras-applications/mobilenet_v2/mobilenet_v2_weights_tf_dim_ordering_tf_kernels_1.0_224_no_top.h5\n",
            "9406464/9406464 [==============================] - 0s 0us/step\n"
          ]
        }
      ]
    },
    {
      "cell_type": "markdown",
      "source": [
        "*Train model function for a binary image classification task. The function takes in two arguments, a pretrained model of MobileNetV2 and the training and validation images.*"
      ],
      "metadata": {
        "id": "zL77llJBsdVq"
      }
    },
    {
      "cell_type": "code",
      "source": [
        "def train_model(pretrained_model: MobileNetV2, train_images, val_images) -> tuple:\n",
        "    # A sequential model that performs resizing and rescaling operations on the input image\n",
        "    resize_and_rescale = tf.keras.Sequential([\n",
        "        layers.experimental.preprocessing.Resizing(*IMG_SIZE),\n",
        "        layers.experimental.preprocessing.Rescaling(1./255),\n",
        "    ])\n",
        "\n",
        "    # Instantiate a MobileNetV2 model with pretrained weights from ImageNet dataset\n",
        "    pretrained_model = MobileNetV2(\n",
        "        input_shape=IMG_SIZE + (3,), # input shape with 3 color channels (RGB)\n",
        "        include_top=False, # exclude the fully connected layer at the top\n",
        "        weights='imagenet', # use the pretrained weights\n",
        "        pooling='avg') # use average pooling as the global pooling operation\n",
        "    \n",
        "    # Get the inputs of the pretrained model\n",
        "    inputs = pretrained_model.input\n",
        "    # Apply the resize_and_rescale operations to the inputs\n",
        "    X = resize_and_rescale(inputs)\n",
        "\n",
        "    # Add a fully connected layer with 256 units, using ReLU activation\n",
        "    X = Dense(256, activation='relu')(pretrained_model.output)\n",
        "    # Apply dropout to reduce overfitting\n",
        "    X = Dropout(0.2)(X)\n",
        "    # Add another fully connected layer with 256 units, using ReLU activation\n",
        "    X = Dense(256, activation='relu')(X)\n",
        "    # Apply dropout to reduce overfitting\n",
        "    X = Dropout(0.2)(X)\n",
        "\n",
        "    # Add a final fully connected layer with 2 units, using softmax activation\n",
        "    outputs = Dense(2, activation='softmax')(X)\n",
        "\n",
        "    # Create a model with the input tensors as inputs and the output tensors as outputs\n",
        "    model = Model(inputs=inputs, outputs=outputs)\n",
        "\n",
        "    # Compile the model with the Adam optimizer, categorical crossentropy loss, and accuracy metric\n",
        "    model.compile(\n",
        "        optimizer=Adam(0.0001), # Use Adam optimizer with a learning rate of 0.0001\n",
        "        loss='categorical_crossentropy', # Use categorical crossentropy as the loss function\n",
        "        metrics=['accuracy'] # Use accuracy as the evaluation metric\n",
        "    )\n",
        "\n",
        "    # Train the model, using the specified train_images and val_images for training and validation respectively\n",
        "    history = model.fit(\n",
        "        train_images, # training images\n",
        "        steps_per_epoch=len(train_images), # number of steps per epoch\n",
        "        validation_data=val_images, # validation images\n",
        "        validation_steps=len(val_images), # number of validation steps\n",
        "        epochs=100, # number of training epochs\n",
        "        callbacks=[\n",
        "            early_stopping, # use early stopping to stop the training if the validation loss stops improving\n",
        "            create_tensorboard_callback(\n",
        "                'training_logs', # directory to store the TensorBoard logs\n",
        "                'fire_classification' # name of the run\n",
        "            ),\n",
        "            checkpoint_callback, # save the best model weights to the specified checkpoint path\n",
        "        ]\n",
        "    )\n",
        "       # Return the trained model and its training history\n",
        "    return model, history"
      ],
      "metadata": {
        "id": "5m_dGmiAeGBK"
      },
      "execution_count": 17,
      "outputs": []
    },
    {
      "cell_type": "code",
      "source": [
        "# Train the model using the train_model function and get the model and its training history\n",
        "model, history = train_model(pretrained_model, train_images, val_images)\n"
      ],
      "metadata": {
        "colab": {
          "base_uri": "https://localhost:8080/"
        },
        "id": "DXUfyXymok5f",
        "outputId": "af89d8bb-78bb-401c-f9e9-f2ae1c410848"
      },
      "execution_count": 18,
      "outputs": [
        {
          "output_type": "stream",
          "name": "stdout",
          "text": [
            "Saving TensorBoard log files to: training_logs/fire_classification/20230210-100032\n",
            "Epoch 1/100\n",
            "52/52 [==============================] - 1303s 25s/step - loss: 0.1163 - accuracy: 0.9495 - val_loss: 0.1700 - val_accuracy: 0.9416\n",
            "Epoch 2/100\n",
            "52/52 [==============================] - 13s 241ms/step - loss: 0.0084 - accuracy: 0.9988 - val_loss: 0.1625 - val_accuracy: 0.9440\n",
            "Epoch 3/100\n",
            "52/52 [==============================] - 13s 251ms/step - loss: 0.0048 - accuracy: 0.9982 - val_loss: 0.1497 - val_accuracy: 0.9562\n",
            "Epoch 4/100\n",
            "52/52 [==============================] - 13s 246ms/step - loss: 0.0056 - accuracy: 0.9982 - val_loss: 0.0922 - val_accuracy: 0.9684\n",
            "Epoch 5/100\n",
            "52/52 [==============================] - 13s 246ms/step - loss: 0.0016 - accuracy: 1.0000 - val_loss: 0.0686 - val_accuracy: 0.9781\n",
            "Epoch 6/100\n",
            "52/52 [==============================] - 13s 244ms/step - loss: 7.9845e-04 - accuracy: 1.0000 - val_loss: 0.0758 - val_accuracy: 0.9732\n",
            "Epoch 7/100\n",
            "52/52 [==============================] - 13s 248ms/step - loss: 6.3531e-04 - accuracy: 1.0000 - val_loss: 0.0739 - val_accuracy: 0.9830\n",
            "Epoch 8/100\n",
            "52/52 [==============================] - 13s 256ms/step - loss: 0.0109 - accuracy: 0.9970 - val_loss: 0.0940 - val_accuracy: 0.9830\n",
            "Epoch 9/100\n",
            "52/52 [==============================] - 14s 270ms/step - loss: 0.0123 - accuracy: 0.9970 - val_loss: 0.0170 - val_accuracy: 0.9976\n",
            "Epoch 10/100\n",
            "52/52 [==============================] - 14s 267ms/step - loss: 0.0024 - accuracy: 0.9994 - val_loss: 0.0034 - val_accuracy: 0.9976\n",
            "Epoch 11/100\n",
            "52/52 [==============================] - 14s 258ms/step - loss: 0.0031 - accuracy: 0.9988 - val_loss: 0.0108 - val_accuracy: 0.9976\n",
            "Epoch 12/100\n",
            "52/52 [==============================] - 13s 243ms/step - loss: 0.0011 - accuracy: 1.0000 - val_loss: 0.0092 - val_accuracy: 0.9976\n",
            "Epoch 13/100\n",
            "52/52 [==============================] - 12s 235ms/step - loss: 4.4411e-04 - accuracy: 1.0000 - val_loss: 0.0068 - val_accuracy: 0.9976\n",
            "Epoch 14/100\n",
            "52/52 [==============================] - 13s 246ms/step - loss: 1.5032e-04 - accuracy: 1.0000 - val_loss: 0.0059 - val_accuracy: 0.9976\n",
            "Epoch 15/100\n",
            "52/52 [==============================] - 13s 240ms/step - loss: 2.7401e-04 - accuracy: 1.0000 - val_loss: 0.0025 - val_accuracy: 0.9976\n",
            "Epoch 16/100\n",
            "52/52 [==============================] - 12s 236ms/step - loss: 5.8807e-04 - accuracy: 0.9994 - val_loss: 0.0107 - val_accuracy: 0.9976\n",
            "Epoch 17/100\n",
            "52/52 [==============================] - 13s 255ms/step - loss: 2.9061e-04 - accuracy: 1.0000 - val_loss: 0.0116 - val_accuracy: 0.9976\n",
            "Epoch 18/100\n",
            "52/52 [==============================] - 13s 252ms/step - loss: 9.4856e-04 - accuracy: 1.0000 - val_loss: 0.0125 - val_accuracy: 0.9976\n",
            "Epoch 19/100\n",
            "52/52 [==============================] - 13s 242ms/step - loss: 0.0044 - accuracy: 0.9982 - val_loss: 0.0127 - val_accuracy: 0.9976\n",
            "Epoch 20/100\n",
            "52/52 [==============================] - 13s 240ms/step - loss: 0.0014 - accuracy: 0.9994 - val_loss: 0.0023 - val_accuracy: 0.9976\n",
            "Epoch 21/100\n",
            "52/52 [==============================] - 12s 234ms/step - loss: 2.2313e-04 - accuracy: 1.0000 - val_loss: 0.0085 - val_accuracy: 0.9976\n",
            "Epoch 22/100\n",
            "52/52 [==============================] - 12s 236ms/step - loss: 1.9097e-04 - accuracy: 1.0000 - val_loss: 0.0101 - val_accuracy: 0.9976\n",
            "Epoch 23/100\n",
            "52/52 [==============================] - 12s 234ms/step - loss: 6.3022e-05 - accuracy: 1.0000 - val_loss: 0.0090 - val_accuracy: 0.9976\n",
            "Epoch 24/100\n",
            "52/52 [==============================] - 12s 239ms/step - loss: 8.7077e-05 - accuracy: 1.0000 - val_loss: 0.0080 - val_accuracy: 0.9976\n",
            "Epoch 25/100\n",
            "52/52 [==============================] - 13s 244ms/step - loss: 0.0017 - accuracy: 0.9994 - val_loss: 0.0232 - val_accuracy: 0.9927\n"
          ]
        }
      ]
    },
    {
      "cell_type": "markdown",
      "source": [
        "## Check overfitting"
      ],
      "metadata": {
        "id": "qCXQRydLn8YF"
      }
    },
    {
      "cell_type": "code",
      "source": [
        "def plot_accuracy(history, miny=None):\n",
        "  # Get the accuracy values from the training and validation datasets\n",
        "  acc = history.history['accuracy']\n",
        "  test_acc = history.history['val_accuracy']\n",
        "  \n",
        "  # Create a range of epochs\n",
        "  epochs = range(len(acc))\n",
        "  \n",
        "  # Plot the accuracy values for both the training and validation datasets\n",
        "  plt.plot(epochs, acc)\n",
        "  plt.plot(epochs, test_acc)\n",
        "  \n",
        "  # If the miny argument is specified, set the lower limit of the y-axis to the specified value\n",
        "  if miny:\n",
        "    plt.ylim(miny, 1.0)\n",
        "  \n",
        "  # Set the title of the plot\n",
        "  plt.title('accuracy') \n",
        "  \n",
        "  # Create a new figure\n",
        "  plt.figure()"
      ],
      "metadata": {
        "id": "gmsXOEnan64l"
      },
      "execution_count": 19,
      "outputs": []
    },
    {
      "cell_type": "code",
      "source": [
        "plot_accuracy(history, miny=0.95)"
      ],
      "metadata": {
        "colab": {
          "base_uri": "https://localhost:8080/",
          "height": 298
        },
        "id": "KiOrm1WzpkD2",
        "outputId": "e3f3f33b-4f39-462e-e4e5-be7e59d1ace5"
      },
      "execution_count": 20,
      "outputs": [
        {
          "output_type": "display_data",
          "data": {
            "text/plain": [
              "<Figure size 432x288 with 1 Axes>"
            ],
            "image/png": "[encoded data removed]"
          },
          "metadata": {
            "needs_background": "light"
          }
        },
        {
          "output_type": "display_data",
          "data": {
            "text/plain": [
              "<Figure size 432x288 with 0 Axes>"
            ]
          },
          "metadata": {}
        }
      ]
    },
    {
      "cell_type": "markdown",
      "source": [
        "# Model Optimization"
      ],
      "metadata": {
        "id": "x3X1qN1Sk1Tg"
      }
    },
    {
      "cell_type": "markdown",
      "source": [
        "*This function build_model takes in an argument hp which is an object of the Hyperparameters class from the hyperopt library. The purpose of this function is to build a machine learning model for binary image classification. The model is built using the MobileNetV2 architecture and has two additional dense layers on top of it. The hyperparameters of the model are defined using the hp object and can be optimized using hyperopt's algorithms.*"
      ],
      "metadata": {
        "id": "_DhWSxVLt95x"
      }
    },
    {
      "cell_type": "code",
      "source": [
        "def build_model(hp):\n",
        "    # Create a sequence of image preprocessing layers\n",
        "    resize_and_rescale = tf.keras.Sequential([\n",
        "      layers.experimental.preprocessing.Resizing(*IMG_SIZE),\n",
        "      layers.experimental.preprocessing.Rescaling(1./255),])\n",
        "\n",
        "    # Load the pre-trained MobileNetV2 model, using the ImageNet weights, and set the pooling layer to average pooling.\n",
        "    pretrained_model = MobileNetV2(\n",
        "      input_shape=IMG_SIZE + (3,),\n",
        "      include_top=False,\n",
        "      weights='imagenet',\n",
        "      pooling='avg')\n",
        "\n",
        "    # Freeze the weights of the pre-trained model so they won't be updated during training.\n",
        "    pretrained_model.trainable = False\n",
        "\n",
        "    # Create the input tensor for the model\n",
        "    inputs = pretrained_model.input\n",
        "    X = resize_and_rescale(inputs)\n",
        "\n",
        "    # Add the first dense layer with the number of units and activation function determined by the hyperparameters.\n",
        "    X = Dense(\n",
        "        units=hp.Int(\"units\", min_value=32, max_value=512, step=32),\n",
        "        activation=hp.Choice(\"activation1\", [\"relu\", \"tanh\", \"sigmoid\"], ordered=False))(pretrained_model.output)\n",
        "    # Add a dropout layer for regularization.\n",
        "    X = Dropout(0.2)(X)\n",
        "\n",
        "    # Add the second dense layer with the number of units and activation function determined by the hyperparameters.\n",
        "    X = Dense(\n",
        "        units=hp.Int(\"units\", min_value=32, max_value=512, step=32),\n",
        "        activation=hp.Choice(\"activation2\", [\"relu\", \"tanh\", \"sigmoid\"], ordered=False))(X)\n",
        "    # Add another dropout layer for regularization.\n",
        "    X = Dropout(0.2)(X)\n",
        "\n",
        "    # Add the final dense layer with the activation function determined by the hyperparameters.\n",
        "    outputs = Dense(2, activation=hp.Choice(\"activation3\", [\"softmax\", \"sigmoid\", \"linear\"], ordered=False))(X)\n",
        "\n",
        "    # Create the model with the specified inputs and outputs.\n",
        "    model = Model(inputs=inputs, outputs=outputs)\n",
        "\n",
        "    # Compile the model with an optimizer, loss function, and metric(s) determined by the hyperparameters.\n",
        "    model.compile(\n",
        "        optimizer=Adam(hp.Choice('learning_rate',\n",
        "                                 [1e-2, 1e-4], ordered=False)),\n",
        "        loss='categorical_crossentropy',\n",
        "        metrics=['accuracy'])\n",
        "\n",
        "    return model\n"
      ],
      "metadata": {
        "id": "STHjiRj2jBrr"
      },
      "execution_count": 21,
      "outputs": []
    },
    {
      "cell_type": "markdown",
      "source": [
        "## Start the search"
      ],
      "metadata": {
        "id": "qKMIgSn0nfIw"
      }
    },
    {
      "cell_type": "markdown",
      "source": [
        "*This code initializes a RandomSearch tuner object from the keras_tuner library. The tuner will perform hyperparameter optimization on the build_model function by performing random search over the hyperparameters defined in the build_model function, with the goal of maximizing the validation accuracy.*"
      ],
      "metadata": {
        "id": "SuIJCOI5vC_w"
      }
    },
    {
      "cell_type": "code",
      "source": [
        "tuner = keras_tuner.RandomSearch(\n",
        "    hypermodel=build_model,\n",
        "    objective=\"val_accuracy\",\n",
        "    max_trials=3,\n",
        "    executions_per_trial=2,\n",
        "    overwrite=True,\n",
        "    directory=\"keras_tuning\",\n",
        "    project_name=\"wildfire\",\n",
        ")"
      ],
      "metadata": {
        "id": "uT9U2JsnlmRL"
      },
      "execution_count": 22,
      "outputs": []
    },
    {
      "cell_type": "code",
      "source": [
        "tuner.search_space_summary()"
      ],
      "metadata": {
        "id": "hLdfTIZbmVNK",
        "colab": {
          "base_uri": "https://localhost:8080/"
        },
        "outputId": "be2d71c1-b793-4f1f-bf5f-aa15015d522c"
      },
      "execution_count": 23,
      "outputs": [
        {
          "output_type": "stream",
          "name": "stdout",
          "text": [
            "Search space summary\n",
            "Default search space size: 5\n",
            "units (Int)\n",
            "{'default': None, 'conditions': [], 'min_value': 32, 'max_value': 512, 'step': 32, 'sampling': 'linear'}\n",
            "activation1 (Choice)\n",
            "{'default': 'relu', 'conditions': [], 'values': ['relu', 'tanh', 'sigmoid'], 'ordered': False}\n",
            "activation2 (Choice)\n",
            "{'default': 'relu', 'conditions': [], 'values': ['relu', 'tanh', 'sigmoid'], 'ordered': False}\n",
            "activation3 (Choice)\n",
            "{'default': 'softmax', 'conditions': [], 'values': ['softmax', 'sigmoid', 'linear'], 'ordered': False}\n",
            "learning_rate (Choice)\n",
            "{'default': 0.01, 'conditions': [], 'values': [0.01, 0.0001], 'ordered': False}\n"
          ]
        }
      ]
    },
    {
      "cell_type": "code",
      "source": [
        "tuner.search(\n",
        "        train_images,\n",
        "        steps_per_epoch=len(train_images),\n",
        "        validation_data=val_images,\n",
        "        validation_steps=len(val_images),\n",
        "        epochs=3\n",
        "    )"
      ],
      "metadata": {
        "id": "iY2hTpsDmo_k",
        "colab": {
          "base_uri": "https://localhost:8080/"
        },
        "outputId": "90850428-6921-4986-ef0d-9f5b1ce8a254"
      },
      "execution_count": 24,
      "outputs": [
        {
          "output_type": "stream",
          "name": "stdout",
          "text": [
            "Trial 3 Complete [00h 01m 03s]\n",
            "val_accuracy: 0.10218978207558393\n",
            "\n",
            "Best val_accuracy So Far: 0.9951338171958923\n",
            "Total elapsed time: 00h 02m 58s\n"
          ]
        }
      ]
    },
    {
      "cell_type": "markdown",
      "source": [
        "## Query the results"
      ],
      "metadata": {
        "id": "d8V2VaXnnaS0"
      }
    },
    {
      "cell_type": "code",
      "source": [
        "# Get the top 2 models.\n",
        "models = tuner.get_best_models(num_models=2)\n",
        "best_model = models[0]\n",
        "# Build the model.\n",
        "# Needed for `Sequential` without specified `input_shape`.\n",
        "best_model.build(input_shape=(None, 28, 28))\n",
        "best_model.summary()"
      ],
      "metadata": {
        "id": "KUYrKtqm0mg4",
        "colab": {
          "base_uri": "https://localhost:8080/"
        },
        "outputId": "bf10ef00-bfc1-4bdd-911a-03f91c5f473d"
      },
      "execution_count": 25,
      "outputs": [
        {
          "output_type": "stream",
          "name": "stdout",
          "text": [
            "Model: \"model\"\n",
            "__________________________________________________________________________________________________\n",
            " Layer (type)                   Output Shape         Param #     Connected to                     \n",
            "==================================================================================================\n",
            " input_1 (InputLayer)           [(None, 224, 224, 3  0           []                               \n",
            "                                )]                                                                \n",
            "                                                                                                  \n",
            " Conv1 (Conv2D)                 (None, 112, 112, 32  864         ['input_1[0][0]']                \n",
            "                                )                                                                 \n",
            "                                                                                                  \n",
            " bn_Conv1 (BatchNormalization)  (None, 112, 112, 32  128         ['Conv1[0][0]']                  \n",
            "                                )                                                                 \n",
            "                                                                                                  \n",
            " Conv1_relu (ReLU)              (None, 112, 112, 32  0           ['bn_Conv1[0][0]']               \n",
            "                                )                                                                 \n",
            "                                                                                                  \n",
            " expanded_conv_depthwise (Depth  (None, 112, 112, 32  288        ['Conv1_relu[0][0]']             \n",
            " wiseConv2D)                    )                                                                 \n",
            "                                                                                                  \n",
            " expanded_conv_depthwise_BN (Ba  (None, 112, 112, 32  128        ['expanded_conv_depthwise[0][0]']\n",
            " tchNormalization)              )                                                                 \n",
            "                                                                                                  \n",
            " expanded_conv_depthwise_relu (  (None, 112, 112, 32  0          ['expanded_conv_depthwise_BN[0][0\n",
            " ReLU)                          )                                ]']                              \n",
            "                                                                                                  \n",
            " expanded_conv_project (Conv2D)  (None, 112, 112, 16  512        ['expanded_conv_depthwise_relu[0]\n",
            "                                )                                [0]']                            \n",
            "                                                                                                  \n",
            " expanded_conv_project_BN (Batc  (None, 112, 112, 16  64         ['expanded_conv_project[0][0]']  \n",
            " hNormalization)                )                                                                 \n",
            "                                                                                                  \n",
            " block_1_expand (Conv2D)        (None, 112, 112, 96  1536        ['expanded_conv_project_BN[0][0]'\n",
            "                                )                                ]                                \n",
            "                                                                                                  \n",
            " block_1_expand_BN (BatchNormal  (None, 112, 112, 96  384        ['block_1_expand[0][0]']         \n",
            " ization)                       )                                                                 \n",
            "                                                                                                  \n",
            " block_1_expand_relu (ReLU)     (None, 112, 112, 96  0           ['block_1_expand_BN[0][0]']      \n",
            "                                )                                                                 \n",
            "                                                                                                  \n",
            " block_1_pad (ZeroPadding2D)    (None, 113, 113, 96  0           ['block_1_expand_relu[0][0]']    \n",
            "                                )                                                                 \n",
            "                                                                                                  \n",
            " block_1_depthwise (DepthwiseCo  (None, 56, 56, 96)  864         ['block_1_pad[0][0]']            \n",
            " nv2D)                                                                                            \n",
            "                                                                                                  \n",
            " block_1_depthwise_BN (BatchNor  (None, 56, 56, 96)  384         ['block_1_depthwise[0][0]']      \n",
            " malization)                                                                                      \n",
            "                                                                                                  \n",
            " block_1_depthwise_relu (ReLU)  (None, 56, 56, 96)   0           ['block_1_depthwise_BN[0][0]']   \n",
            "                                                                                                  \n",
            " block_1_project (Conv2D)       (None, 56, 56, 24)   2304        ['block_1_depthwise_relu[0][0]'] \n",
            "                                                                                                  \n",
            " block_1_project_BN (BatchNorma  (None, 56, 56, 24)  96          ['block_1_project[0][0]']        \n",
            " lization)                                                                                        \n",
            "                                                                                                  \n",
            " block_2_expand (Conv2D)        (None, 56, 56, 144)  3456        ['block_1_project_BN[0][0]']     \n",
            "                                                                                                  \n",
            " block_2_expand_BN (BatchNormal  (None, 56, 56, 144)  576        ['block_2_expand[0][0]']         \n",
            " ization)                                                                                         \n",
            "                                                                                                  \n",
            " block_2_expand_relu (ReLU)     (None, 56, 56, 144)  0           ['block_2_expand_BN[0][0]']      \n",
            "                                                                                                  \n",
            " block_2_depthwise (DepthwiseCo  (None, 56, 56, 144)  1296       ['block_2_expand_relu[0][0]']    \n",
            " nv2D)                                                                                            \n",
            "                                                                                                  \n",
            " block_2_depthwise_BN (BatchNor  (None, 56, 56, 144)  576        ['block_2_depthwise[0][0]']      \n",
            " malization)                                                                                      \n",
            "                                                                                                  \n",
            " block_2_depthwise_relu (ReLU)  (None, 56, 56, 144)  0           ['block_2_depthwise_BN[0][0]']   \n",
            "                                                                                                  \n",
            " block_2_project (Conv2D)       (None, 56, 56, 24)   3456        ['block_2_depthwise_relu[0][0]'] \n",
            "                                                                                                  \n",
            " block_2_project_BN (BatchNorma  (None, 56, 56, 24)  96          ['block_2_project[0][0]']        \n",
            " lization)                                                                                        \n",
            "                                                                                                  \n",
            " block_2_add (Add)              (None, 56, 56, 24)   0           ['block_1_project_BN[0][0]',     \n",
            "                                                                  'block_2_project_BN[0][0]']     \n",
            "                                                                                                  \n",
            " block_3_expand (Conv2D)        (None, 56, 56, 144)  3456        ['block_2_add[0][0]']            \n",
            "                                                                                                  \n",
            " block_3_expand_BN (BatchNormal  (None, 56, 56, 144)  576        ['block_3_expand[0][0]']         \n",
            " ization)                                                                                         \n",
            "                                                                                                  \n",
            " block_3_expand_relu (ReLU)     (None, 56, 56, 144)  0           ['block_3_expand_BN[0][0]']      \n",
            "                                                                                                  \n",
            " block_3_pad (ZeroPadding2D)    (None, 57, 57, 144)  0           ['block_3_expand_relu[0][0]']    \n",
            "                                                                                                  \n",
            " block_3_depthwise (DepthwiseCo  (None, 28, 28, 144)  1296       ['block_3_pad[0][0]']            \n",
            " nv2D)                                                                                            \n",
            "                                                                                                  \n",
            " block_3_depthwise_BN (BatchNor  (None, 28, 28, 144)  576        ['block_3_depthwise[0][0]']      \n",
            " malization)                                                                                      \n",
            "                                                                                                  \n",
            " block_3_depthwise_relu (ReLU)  (None, 28, 28, 144)  0           ['block_3_depthwise_BN[0][0]']   \n",
            "                                                                                                  \n",
            " block_3_project (Conv2D)       (None, 28, 28, 32)   4608        ['block_3_depthwise_relu[0][0]'] \n",
            "                                                                                                  \n",
            " block_3_project_BN (BatchNorma  (None, 28, 28, 32)  128         ['block_3_project[0][0]']        \n",
            " lization)                                                                                        \n",
            "                                                                                                  \n",
            " block_4_expand (Conv2D)        (None, 28, 28, 192)  6144        ['block_3_project_BN[0][0]']     \n",
            "                                                                                                  \n",
            " block_4_expand_BN (BatchNormal  (None, 28, 28, 192)  768        ['block_4_expand[0][0]']         \n",
            " ization)                                                                                         \n",
            "                                                                                                  \n",
            " block_4_expand_relu (ReLU)     (None, 28, 28, 192)  0           ['block_4_expand_BN[0][0]']      \n",
            "                                                                                                  \n",
            " block_4_depthwise (DepthwiseCo  (None, 28, 28, 192)  1728       ['block_4_expand_relu[0][0]']    \n",
            " nv2D)                                                                                            \n",
            "                                                                                                  \n",
            " block_4_depthwise_BN (BatchNor  (None, 28, 28, 192)  768        ['block_4_depthwise[0][0]']      \n",
            " malization)                                                                                      \n",
            "                                                                                                  \n",
            " block_4_depthwise_relu (ReLU)  (None, 28, 28, 192)  0           ['block_4_depthwise_BN[0][0]']   \n",
            "                                                                                                  \n",
            " block_4_project (Conv2D)       (None, 28, 28, 32)   6144        ['block_4_depthwise_relu[0][0]'] \n",
            "                                                                                                  \n",
            " block_4_project_BN (BatchNorma  (None, 28, 28, 32)  128         ['block_4_project[0][0]']        \n",
            " lization)                                                                                        \n",
            "                                                                                                  \n",
            " block_4_add (Add)              (None, 28, 28, 32)   0           ['block_3_project_BN[0][0]',     \n",
            "                                                                  'block_4_project_BN[0][0]']     \n",
            "                                                                                                  \n",
            " block_5_expand (Conv2D)        (None, 28, 28, 192)  6144        ['block_4_add[0][0]']            \n",
            "                                                                                                  \n",
            " block_5_expand_BN (BatchNormal  (None, 28, 28, 192)  768        ['block_5_expand[0][0]']         \n",
            " ization)                                                                                         \n",
            "                                                                                                  \n",
            " block_5_expand_relu (ReLU)     (None, 28, 28, 192)  0           ['block_5_expand_BN[0][0]']      \n",
            "                                                                                                  \n",
            " block_5_depthwise (DepthwiseCo  (None, 28, 28, 192)  1728       ['block_5_expand_relu[0][0]']    \n",
            " nv2D)                                                                                            \n",
            "                                                                                                  \n",
            " block_5_depthwise_BN (BatchNor  (None, 28, 28, 192)  768        ['block_5_depthwise[0][0]']      \n",
            " malization)                                                                                      \n",
            "                                                                                                  \n",
            " block_5_depthwise_relu (ReLU)  (None, 28, 28, 192)  0           ['block_5_depthwise_BN[0][0]']   \n",
            "                                                                                                  \n",
            " block_5_project (Conv2D)       (None, 28, 28, 32)   6144        ['block_5_depthwise_relu[0][0]'] \n",
            "                                                                                                  \n",
            " block_5_project_BN (BatchNorma  (None, 28, 28, 32)  128         ['block_5_project[0][0]']        \n",
            " lization)                                                                                        \n",
            "                                                                                                  \n",
            " block_5_add (Add)              (None, 28, 28, 32)   0           ['block_4_add[0][0]',            \n",
            "                                                                  'block_5_project_BN[0][0]']     \n",
            "                                                                                                  \n",
            " block_6_expand (Conv2D)        (None, 28, 28, 192)  6144        ['block_5_add[0][0]']            \n",
            "                                                                                                  \n",
            " block_6_expand_BN (BatchNormal  (None, 28, 28, 192)  768        ['block_6_expand[0][0]']         \n",
            " ization)                                                                                         \n",
            "                                                                                                  \n",
            " block_6_expand_relu (ReLU)     (None, 28, 28, 192)  0           ['block_6_expand_BN[0][0]']      \n",
            "                                                                                                  \n",
            " block_6_pad (ZeroPadding2D)    (None, 29, 29, 192)  0           ['block_6_expand_relu[0][0]']    \n",
            "                                                                                                  \n",
            " block_6_depthwise (DepthwiseCo  (None, 14, 14, 192)  1728       ['block_6_pad[0][0]']            \n",
            " nv2D)                                                                                            \n",
            "                                                                                                  \n",
            " block_6_depthwise_BN (BatchNor  (None, 14, 14, 192)  768        ['block_6_depthwise[0][0]']      \n",
            " malization)                                                                                      \n",
            "                                                                                                  \n",
            " block_6_depthwise_relu (ReLU)  (None, 14, 14, 192)  0           ['block_6_depthwise_BN[0][0]']   \n",
            "                                                                                                  \n",
            " block_6_project (Conv2D)       (None, 14, 14, 64)   12288       ['block_6_depthwise_relu[0][0]'] \n",
            "                                                                                                  \n",
            " block_6_project_BN (BatchNorma  (None, 14, 14, 64)  256         ['block_6_project[0][0]']        \n",
            " lization)                                                                                        \n",
            "                                                                                                  \n",
            " block_7_expand (Conv2D)        (None, 14, 14, 384)  24576       ['block_6_project_BN[0][0]']     \n",
            "                                                                                                  \n",
            " block_7_expand_BN (BatchNormal  (None, 14, 14, 384)  1536       ['block_7_expand[0][0]']         \n",
            " ization)                                                                                         \n",
            "                                                                                                  \n",
            " block_7_expand_relu (ReLU)     (None, 14, 14, 384)  0           ['block_7_expand_BN[0][0]']      \n",
            "                                                                                                  \n",
            " block_7_depthwise (DepthwiseCo  (None, 14, 14, 384)  3456       ['block_7_expand_relu[0][0]']    \n",
            " nv2D)                                                                                            \n",
            "                                                                                                  \n",
            " block_7_depthwise_BN (BatchNor  (None, 14, 14, 384)  1536       ['block_7_depthwise[0][0]']      \n",
            " malization)                                                                                      \n",
            "                                                                                                  \n",
            " block_7_depthwise_relu (ReLU)  (None, 14, 14, 384)  0           ['block_7_depthwise_BN[0][0]']   \n",
            "                                                                                                  \n",
            " block_7_project (Conv2D)       (None, 14, 14, 64)   24576       ['block_7_depthwise_relu[0][0]'] \n",
            "                                                                                                  \n",
            " block_7_project_BN (BatchNorma  (None, 14, 14, 64)  256         ['block_7_project[0][0]']        \n",
            " lization)                                                                                        \n",
            "                                                                                                  \n",
            " block_7_add (Add)              (None, 14, 14, 64)   0           ['block_6_project_BN[0][0]',     \n",
            "                                                                  'block_7_project_BN[0][0]']     \n",
            "                                                                                                  \n",
            " block_8_expand (Conv2D)        (None, 14, 14, 384)  24576       ['block_7_add[0][0]']            \n",
            "                                                                                                  \n",
            " block_8_expand_BN (BatchNormal  (None, 14, 14, 384)  1536       ['block_8_expand[0][0]']         \n",
            " ization)                                                                                         \n",
            "                                                                                                  \n",
            " block_8_expand_relu (ReLU)     (None, 14, 14, 384)  0           ['block_8_expand_BN[0][0]']      \n",
            "                                                                                                  \n",
            " block_8_depthwise (DepthwiseCo  (None, 14, 14, 384)  3456       ['block_8_expand_relu[0][0]']    \n",
            " nv2D)                                                                                            \n",
            "                                                                                                  \n",
            " block_8_depthwise_BN (BatchNor  (None, 14, 14, 384)  1536       ['block_8_depthwise[0][0]']      \n",
            " malization)                                                                                      \n",
            "                                                                                                  \n",
            " block_8_depthwise_relu (ReLU)  (None, 14, 14, 384)  0           ['block_8_depthwise_BN[0][0]']   \n",
            "                                                                                                  \n",
            " block_8_project (Conv2D)       (None, 14, 14, 64)   24576       ['block_8_depthwise_relu[0][0]'] \n",
            "                                                                                                  \n",
            " block_8_project_BN (BatchNorma  (None, 14, 14, 64)  256         ['block_8_project[0][0]']        \n",
            " lization)                                                                                        \n",
            "                                                                                                  \n",
            " block_8_add (Add)              (None, 14, 14, 64)   0           ['block_7_add[0][0]',            \n",
            "                                                                  'block_8_project_BN[0][0]']     \n",
            "                                                                                                  \n",
            " block_9_expand (Conv2D)        (None, 14, 14, 384)  24576       ['block_8_add[0][0]']            \n",
            "                                                                                                  \n",
            " block_9_expand_BN (BatchNormal  (None, 14, 14, 384)  1536       ['block_9_expand[0][0]']         \n",
            " ization)                                                                                         \n",
            "                                                                                                  \n",
            " block_9_expand_relu (ReLU)     (None, 14, 14, 384)  0           ['block_9_expand_BN[0][0]']      \n",
            "                                                                                                  \n",
            " block_9_depthwise (DepthwiseCo  (None, 14, 14, 384)  3456       ['block_9_expand_relu[0][0]']    \n",
            " nv2D)                                                                                            \n",
            "                                                                                                  \n",
            " block_9_depthwise_BN (BatchNor  (None, 14, 14, 384)  1536       ['block_9_depthwise[0][0]']      \n",
            " malization)                                                                                      \n",
            "                                                                                                  \n",
            " block_9_depthwise_relu (ReLU)  (None, 14, 14, 384)  0           ['block_9_depthwise_BN[0][0]']   \n",
            "                                                                                                  \n",
            " block_9_project (Conv2D)       (None, 14, 14, 64)   24576       ['block_9_depthwise_relu[0][0]'] \n",
            "                                                                                                  \n",
            " block_9_project_BN (BatchNorma  (None, 14, 14, 64)  256         ['block_9_project[0][0]']        \n",
            " lization)                                                                                        \n",
            "                                                                                                  \n",
            " block_9_add (Add)              (None, 14, 14, 64)   0           ['block_8_add[0][0]',            \n",
            "                                                                  'block_9_project_BN[0][0]']     \n",
            "                                                                                                  \n",
            " block_10_expand (Conv2D)       (None, 14, 14, 384)  24576       ['block_9_add[0][0]']            \n",
            "                                                                                                  \n",
            " block_10_expand_BN (BatchNorma  (None, 14, 14, 384)  1536       ['block_10_expand[0][0]']        \n",
            " lization)                                                                                        \n",
            "                                                                                                  \n",
            " block_10_expand_relu (ReLU)    (None, 14, 14, 384)  0           ['block_10_expand_BN[0][0]']     \n",
            "                                                                                                  \n",
            " block_10_depthwise (DepthwiseC  (None, 14, 14, 384)  3456       ['block_10_expand_relu[0][0]']   \n",
            " onv2D)                                                                                           \n",
            "                                                                                                  \n",
            " block_10_depthwise_BN (BatchNo  (None, 14, 14, 384)  1536       ['block_10_depthwise[0][0]']     \n",
            " rmalization)                                                                                     \n",
            "                                                                                                  \n",
            " block_10_depthwise_relu (ReLU)  (None, 14, 14, 384)  0          ['block_10_depthwise_BN[0][0]']  \n",
            "                                                                                                  \n",
            " block_10_project (Conv2D)      (None, 14, 14, 96)   36864       ['block_10_depthwise_relu[0][0]']\n",
            "                                                                                                  \n",
            " block_10_project_BN (BatchNorm  (None, 14, 14, 96)  384         ['block_10_project[0][0]']       \n",
            " alization)                                                                                       \n",
            "                                                                                                  \n",
            " block_11_expand (Conv2D)       (None, 14, 14, 576)  55296       ['block_10_project_BN[0][0]']    \n",
            "                                                                                                  \n",
            " block_11_expand_BN (BatchNorma  (None, 14, 14, 576)  2304       ['block_11_expand[0][0]']        \n",
            " lization)                                                                                        \n",
            "                                                                                                  \n",
            " block_11_expand_relu (ReLU)    (None, 14, 14, 576)  0           ['block_11_expand_BN[0][0]']     \n",
            "                                                                                                  \n",
            " block_11_depthwise (DepthwiseC  (None, 14, 14, 576)  5184       ['block_11_expand_relu[0][0]']   \n",
            " onv2D)                                                                                           \n",
            "                                                                                                  \n",
            " block_11_depthwise_BN (BatchNo  (None, 14, 14, 576)  2304       ['block_11_depthwise[0][0]']     \n",
            " rmalization)                                                                                     \n",
            "                                                                                                  \n",
            " block_11_depthwise_relu (ReLU)  (None, 14, 14, 576)  0          ['block_11_depthwise_BN[0][0]']  \n",
            "                                                                                                  \n",
            " block_11_project (Conv2D)      (None, 14, 14, 96)   55296       ['block_11_depthwise_relu[0][0]']\n",
            "                                                                                                  \n",
            " block_11_project_BN (BatchNorm  (None, 14, 14, 96)  384         ['block_11_project[0][0]']       \n",
            " alization)                                                                                       \n",
            "                                                                                                  \n",
            " block_11_add (Add)             (None, 14, 14, 96)   0           ['block_10_project_BN[0][0]',    \n",
            "                                                                  'block_11_project_BN[0][0]']    \n",
            "                                                                                                  \n",
            " block_12_expand (Conv2D)       (None, 14, 14, 576)  55296       ['block_11_add[0][0]']           \n",
            "                                                                                                  \n",
            " block_12_expand_BN (BatchNorma  (None, 14, 14, 576)  2304       ['block_12_expand[0][0]']        \n",
            " lization)                                                                                        \n",
            "                                                                                                  \n",
            " block_12_expand_relu (ReLU)    (None, 14, 14, 576)  0           ['block_12_expand_BN[0][0]']     \n",
            "                                                                                                  \n",
            " block_12_depthwise (DepthwiseC  (None, 14, 14, 576)  5184       ['block_12_expand_relu[0][0]']   \n",
            " onv2D)                                                                                           \n",
            "                                                                                                  \n",
            " block_12_depthwise_BN (BatchNo  (None, 14, 14, 576)  2304       ['block_12_depthwise[0][0]']     \n",
            " rmalization)                                                                                     \n",
            "                                                                                                  \n",
            " block_12_depthwise_relu (ReLU)  (None, 14, 14, 576)  0          ['block_12_depthwise_BN[0][0]']  \n",
            "                                                                                                  \n",
            " block_12_project (Conv2D)      (None, 14, 14, 96)   55296       ['block_12_depthwise_relu[0][0]']\n",
            "                                                                                                  \n",
            " block_12_project_BN (BatchNorm  (None, 14, 14, 96)  384         ['block_12_project[0][0]']       \n",
            " alization)                                                                                       \n",
            "                                                                                                  \n",
            " block_12_add (Add)             (None, 14, 14, 96)   0           ['block_11_add[0][0]',           \n",
            "                                                                  'block_12_project_BN[0][0]']    \n",
            "                                                                                                  \n",
            " block_13_expand (Conv2D)       (None, 14, 14, 576)  55296       ['block_12_add[0][0]']           \n",
            "                                                                                                  \n",
            " block_13_expand_BN (BatchNorma  (None, 14, 14, 576)  2304       ['block_13_expand[0][0]']        \n",
            " lization)                                                                                        \n",
            "                                                                                                  \n",
            " block_13_expand_relu (ReLU)    (None, 14, 14, 576)  0           ['block_13_expand_BN[0][0]']     \n",
            "                                                                                                  \n",
            " block_13_pad (ZeroPadding2D)   (None, 15, 15, 576)  0           ['block_13_expand_relu[0][0]']   \n",
            "                                                                                                  \n",
            " block_13_depthwise (DepthwiseC  (None, 7, 7, 576)   5184        ['block_13_pad[0][0]']           \n",
            " onv2D)                                                                                           \n",
            "                                                                                                  \n",
            " block_13_depthwise_BN (BatchNo  (None, 7, 7, 576)   2304        ['block_13_depthwise[0][0]']     \n",
            " rmalization)                                                                                     \n",
            "                                                                                                  \n",
            " block_13_depthwise_relu (ReLU)  (None, 7, 7, 576)   0           ['block_13_depthwise_BN[0][0]']  \n",
            "                                                                                                  \n",
            " block_13_project (Conv2D)      (None, 7, 7, 160)    92160       ['block_13_depthwise_relu[0][0]']\n",
            "                                                                                                  \n",
            " block_13_project_BN (BatchNorm  (None, 7, 7, 160)   640         ['block_13_project[0][0]']       \n",
            " alization)                                                                                       \n",
            "                                                                                                  \n",
            " block_14_expand (Conv2D)       (None, 7, 7, 960)    153600      ['block_13_project_BN[0][0]']    \n",
            "                                                                                                  \n",
            " block_14_expand_BN (BatchNorma  (None, 7, 7, 960)   3840        ['block_14_expand[0][0]']        \n",
            " lization)                                                                                        \n",
            "                                                                                                  \n",
            " block_14_expand_relu (ReLU)    (None, 7, 7, 960)    0           ['block_14_expand_BN[0][0]']     \n",
            "                                                                                                  \n",
            " block_14_depthwise (DepthwiseC  (None, 7, 7, 960)   8640        ['block_14_expand_relu[0][0]']   \n",
            " onv2D)                                                                                           \n",
            "                                                                                                  \n",
            " block_14_depthwise_BN (BatchNo  (None, 7, 7, 960)   3840        ['block_14_depthwise[0][0]']     \n",
            " rmalization)                                                                                     \n",
            "                                                                                                  \n",
            " block_14_depthwise_relu (ReLU)  (None, 7, 7, 960)   0           ['block_14_depthwise_BN[0][0]']  \n",
            "                                                                                                  \n",
            " block_14_project (Conv2D)      (None, 7, 7, 160)    153600      ['block_14_depthwise_relu[0][0]']\n",
            "                                                                                                  \n",
            " block_14_project_BN (BatchNorm  (None, 7, 7, 160)   640         ['block_14_project[0][0]']       \n",
            " alization)                                                                                       \n",
            "                                                                                                  \n",
            " block_14_add (Add)             (None, 7, 7, 160)    0           ['block_13_project_BN[0][0]',    \n",
            "                                                                  'block_14_project_BN[0][0]']    \n",
            "                                                                                                  \n",
            " block_15_expand (Conv2D)       (None, 7, 7, 960)    153600      ['block_14_add[0][0]']           \n",
            "                                                                                                  \n",
            " block_15_expand_BN (BatchNorma  (None, 7, 7, 960)   3840        ['block_15_expand[0][0]']        \n",
            " lization)                                                                                        \n",
            "                                                                                                  \n",
            " block_15_expand_relu (ReLU)    (None, 7, 7, 960)    0           ['block_15_expand_BN[0][0]']     \n",
            "                                                                                                  \n",
            " block_15_depthwise (DepthwiseC  (None, 7, 7, 960)   8640        ['block_15_expand_relu[0][0]']   \n",
            " onv2D)                                                                                           \n",
            "                                                                                                  \n",
            " block_15_depthwise_BN (BatchNo  (None, 7, 7, 960)   3840        ['block_15_depthwise[0][0]']     \n",
            " rmalization)                                                                                     \n",
            "                                                                                                  \n",
            " block_15_depthwise_relu (ReLU)  (None, 7, 7, 960)   0           ['block_15_depthwise_BN[0][0]']  \n",
            "                                                                                                  \n",
            " block_15_project (Conv2D)      (None, 7, 7, 160)    153600      ['block_15_depthwise_relu[0][0]']\n",
            "                                                                                                  \n",
            " block_15_project_BN (BatchNorm  (None, 7, 7, 160)   640         ['block_15_project[0][0]']       \n",
            " alization)                                                                                       \n",
            "                                                                                                  \n",
            " block_15_add (Add)             (None, 7, 7, 160)    0           ['block_14_add[0][0]',           \n",
            "                                                                  'block_15_project_BN[0][0]']    \n",
            "                                                                                                  \n",
            " block_16_expand (Conv2D)       (None, 7, 7, 960)    153600      ['block_15_add[0][0]']           \n",
            "                                                                                                  \n",
            " block_16_expand_BN (BatchNorma  (None, 7, 7, 960)   3840        ['block_16_expand[0][0]']        \n",
            " lization)                                                                                        \n",
            "                                                                                                  \n",
            " block_16_expand_relu (ReLU)    (None, 7, 7, 960)    0           ['block_16_expand_BN[0][0]']     \n",
            "                                                                                                  \n",
            " block_16_depthwise (DepthwiseC  (None, 7, 7, 960)   8640        ['block_16_expand_relu[0][0]']   \n",
            " onv2D)                                                                                           \n",
            "                                                                                                  \n",
            " block_16_depthwise_BN (BatchNo  (None, 7, 7, 960)   3840        ['block_16_depthwise[0][0]']     \n",
            " rmalization)                                                                                     \n",
            "                                                                                                  \n",
            " block_16_depthwise_relu (ReLU)  (None, 7, 7, 960)   0           ['block_16_depthwise_BN[0][0]']  \n",
            "                                                                                                  \n",
            " block_16_project (Conv2D)      (None, 7, 7, 320)    307200      ['block_16_depthwise_relu[0][0]']\n",
            "                                                                                                  \n",
            " block_16_project_BN (BatchNorm  (None, 7, 7, 320)   1280        ['block_16_project[0][0]']       \n",
            " alization)                                                                                       \n",
            "                                                                                                  \n",
            " Conv_1 (Conv2D)                (None, 7, 7, 1280)   409600      ['block_16_project_BN[0][0]']    \n",
            "                                                                                                  \n",
            " Conv_1_bn (BatchNormalization)  (None, 7, 7, 1280)  5120        ['Conv_1[0][0]']                 \n",
            "                                                                                                  \n",
            " out_relu (ReLU)                (None, 7, 7, 1280)   0           ['Conv_1_bn[0][0]']              \n",
            "                                                                                                  \n",
            " global_average_pooling2d (Glob  (None, 1280)        0           ['out_relu[0][0]']               \n",
            " alAveragePooling2D)                                                                              \n",
            "                                                                                                  \n",
            " dense (Dense)                  (None, 160)          204960      ['global_average_pooling2d[0][0]'\n",
            "                                                                 ]                                \n",
            "                                                                                                  \n",
            " dropout (Dropout)              (None, 160)          0           ['dense[0][0]']                  \n",
            "                                                                                                  \n",
            " dense_1 (Dense)                (None, 160)          25760       ['dropout[0][0]']                \n",
            "                                                                                                  \n",
            " dropout_1 (Dropout)            (None, 160)          0           ['dense_1[0][0]']                \n",
            "                                                                                                  \n",
            " dense_2 (Dense)                (None, 2)            322         ['dropout_1[0][0]']              \n",
            "                                                                                                  \n",
            "==================================================================================================\n",
            "Total params: 2,489,026\n",
            "Trainable params: 231,042\n",
            "Non-trainable params: 2,257,984\n",
            "__________________________________________________________________________________________________\n"
          ]
        }
      ]
    },
    {
      "cell_type": "code",
      "source": [
        "# The tuner.results_summary() method shows a summary of the hyperparameter tuning results, including the performance metrics of each trial. \n",
        "tuner.results_summary()"
      ],
      "metadata": {
        "id": "nfS_Cpkn0qBU",
        "colab": {
          "base_uri": "https://localhost:8080/"
        },
        "outputId": "46a72b28-cb79-44dd-c6a4-ef29388def85"
      },
      "execution_count": 26,
      "outputs": [
        {
          "output_type": "stream",
          "name": "stdout",
          "text": [
            "Results summary\n",
            "Results in keras_tuning/wildfire\n",
            "Showing 10 best trials\n",
            "<keras_tuner.engine.objective.Objective object at 0x7f6568317850>\n",
            "Trial summary\n",
            "Hyperparameters:\n",
            "units: 160\n",
            "activation1: tanh\n",
            "activation2: tanh\n",
            "activation3: sigmoid\n",
            "learning_rate: 0.0001\n",
            "Score: 0.9951338171958923\n",
            "Trial summary\n",
            "Hyperparameters:\n",
            "units: 320\n",
            "activation1: sigmoid\n",
            "activation2: relu\n",
            "activation3: sigmoid\n",
            "learning_rate: 0.0001\n",
            "Score: 0.9951338171958923\n",
            "Trial summary\n",
            "Hyperparameters:\n",
            "units: 480\n",
            "activation1: tanh\n",
            "activation2: sigmoid\n",
            "activation3: linear\n",
            "learning_rate: 0.01\n",
            "Score: 0.10218978207558393\n"
          ]
        }
      ]
    },
    {
      "cell_type": "code",
      "source": [
        "# Get the optimal hyperparameters\n",
        "best_hps=tuner.get_best_hyperparameters()[0]\n",
        "\n",
        "print(best_hps.get(\"activation1\"))\n",
        "print(best_hps.get(\"activation2\"))\n",
        "print(best_hps.get(\"activation3\"))\n",
        "print(best_hps.get(\"units\"))\n",
        "print(best_hps.get(\"learning_rate\"))"
      ],
      "metadata": {
        "id": "o6xi0hCkx_yT",
        "colab": {
          "base_uri": "https://localhost:8080/"
        },
        "outputId": "f37948eb-3d2c-4156-97f3-23e84c4b7151"
      },
      "execution_count": 27,
      "outputs": [
        {
          "metadata": {
            "tags": null
          },
          "name": "stdout",
          "output_type": "stream",
          "text": [
            "tanh\n",
            "tanh\n",
            "sigmoid\n",
            "160\n",
            "0.0001\n"
          ]
        }
      ]
    },
    {
      "cell_type": "markdown",
      "source": [
        "The output shows the best hyperparameters that have been found as a result of the tuning process. The hyperparameters include:\n",
        "\n",
        "\n",
        "\n",
        "*   \"activation1\": tanh\n",
        "*   \"activation2\": tanh\n",
        "*   \"activation3\": sigmoid\n",
        "*   \"units\": 448\n",
        "*   \"learning_rate\": 0.0001\n",
        "\n",
        "These hyperparameters are considered the optimal configuration for the model, as they provided the best results for the validation set during the tuning process."
      ],
      "metadata": {
        "id": "AB8f5co2wM6s"
      }
    }
  ]
}