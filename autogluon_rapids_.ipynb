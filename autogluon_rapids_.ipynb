{
  "nbformat": 4,
  "nbformat_minor": 0,
  "metadata": {
    "colab": {
      "provenance": [],
      "machine_shape": "hm",
      "toc_visible": true,
      "include_colab_link": true
    },
    "kernelspec": {
      "name": "python3",
      "display_name": "Python 3"
    },
    "accelerator": "GPU",
    "gpuClass": "standard"
  },
  "cells": [
    {
      "cell_type": "markdown",
      "metadata": {
        "id": "view-in-github",
        "colab_type": "text"
      },
      "source": [
        "<a href=\"https://colab.research.google.com/github/Antonsen2/wildfire-ai/blob/automl_autogluon/autogluon_rapids_.ipynb\" target=\"_parent\"><img src=\"https://colab.research.google.com/assets/colab-badge.svg\" alt=\"Open In Colab\"/></a>"
      ]
    },
    {
      "cell_type": "markdown",
      "metadata": {
        "id": "scfLT2i0MLyD",
        "pycharm": {
          "name": "#%% md\n"
        }
      },
      "source": [
        "# Environment Check #\n",
        "\n",
        "First, click the _Runtime_ dropdown above in colab, at the top of the page, then _Change Runtime Type_ and confirm the instance type is _GPU_.\n",
        "\n",
        "Next, check the output of `!nvidia-smi` to make sure you've been allocated a Tesla T4, P4, or P100."
      ]
    },
    {
      "cell_type": "code",
      "metadata": {
        "id": "B0C8IV5TQnjN",
        "colab": {
          "base_uri": "https://localhost:8080/"
        },
        "outputId": "35a0abf4-b10a-4971-9c59-abbd1d9d44b9",
        "pycharm": {
          "name": "#%%\n"
        }
      },
      "source": [
        "!nvidia-smi"
      ],
      "execution_count": 1,
      "outputs": [
        {
          "output_type": "stream",
          "name": "stdout",
          "text": [
            "Tue Dec 13 08:57:47 2022       \n",
            "+-----------------------------------------------------------------------------+\n",
            "| NVIDIA-SMI 460.32.03    Driver Version: 460.32.03    CUDA Version: 11.2     |\n",
            "|-------------------------------+----------------------+----------------------+\n",
            "| GPU  Name        Persistence-M| Bus-Id        Disp.A | Volatile Uncorr. ECC |\n",
            "| Fan  Temp  Perf  Pwr:Usage/Cap|         Memory-Usage | GPU-Util  Compute M. |\n",
            "|                               |                      |               MIG M. |\n",
            "|===============================+======================+======================|\n",
            "|   0  Tesla T4            Off  | 00000000:00:04.0 Off |                    0 |\n",
            "| N/A   48C    P0    26W /  70W |      0MiB / 15109MiB |      0%      Default |\n",
            "|                               |                      |                  N/A |\n",
            "+-------------------------------+----------------------+----------------------+\n",
            "                                                                               \n",
            "+-----------------------------------------------------------------------------+\n",
            "| Processes:                                                                  |\n",
            "|  GPU   GI   CI        PID   Type   Process name                  GPU Memory |\n",
            "|        ID   ID                                                   Usage      |\n",
            "|=============================================================================|\n",
            "|  No running processes found                                                 |\n",
            "+-----------------------------------------------------------------------------+\n"
          ]
        }
      ]
    },
    {
      "cell_type": "markdown",
      "metadata": {
        "id": "CtNdk7PSafKP",
        "pycharm": {
          "name": "#%% md\n"
        }
      },
      "source": [
        "# Environment Setup:\n",
        "Set up script installs\n",
        "1. Updates gcc in Colab\n",
        "1. Installs Conda\n",
        "1. Install RAPIDS' current stable version of its libraries, as well as some external libraries including:\n",
        "1. Copy RAPIDS .so files into current working directory, a neccessary workaround for RAPIDS+Colab integration.\n"
      ]
    },
    {
      "cell_type": "code",
      "metadata": {
        "id": "3Jeh6EJBaBkv",
        "colab": {
          "base_uri": "https://localhost:8080/"
        },
        "outputId": "c1c27f0b-8c4b-4e8f-c492-f1fc1de3bf21",
        "pycharm": {
          "name": "#%%\n"
        }
      },
      "source": [
        "# This get the RAPIDS-Colab install files and test check your GPU.  Run this and the next cell only.\n",
        "# Please read the output of this cell.  If your Colab Instance is not RAPIDS compatible, it will warn you and give you remediation steps.\n",
        "!git clone https://github.com/rapidsai/rapidsai-csp-utils.git\n",
        "!python rapidsai-csp-utils/colab/env-check.py"
      ],
      "execution_count": 2,
      "outputs": [
        {
          "output_type": "stream",
          "name": "stdout",
          "text": [
            "Cloning into 'rapidsai-csp-utils'...\n",
            "remote: Enumerating objects: 308, done.\u001b[K\n",
            "remote: Counting objects: 100% (137/137), done.\u001b[K\n",
            "remote: Compressing objects: 100% (82/82), done.\u001b[K\n",
            "remote: Total 308 (delta 79), reused 98 (delta 55), pack-reused 171\u001b[K\n",
            "Receiving objects: 100% (308/308), 89.88 KiB | 17.98 MiB/s, done.\n",
            "Resolving deltas: 100% (141/141), done.\n",
            "Traceback (most recent call last):\n",
            "  File \"rapidsai-csp-utils/colab/env-check.py\", line 1, in <module>\n",
            "    import pynvml\n",
            "ModuleNotFoundError: No module named 'pynvml'\n"
          ]
        }
      ]
    },
    {
      "cell_type": "code",
      "metadata": {
        "id": "JI7UTXbhaBon",
        "colab": {
          "base_uri": "https://localhost:8080/"
        },
        "outputId": "da6b596d-8b99-4521-9b91-86998ebc5207",
        "pycharm": {
          "name": "#%%\n"
        }
      },
      "source": [
        "# This will update the Colab environment and restart the kernel.  Don't run the next cell until you see the session crash.\n",
        "!bash rapidsai-csp-utils/colab/update_gcc.sh\n",
        "import os\n",
        "os._exit(00)"
      ],
      "execution_count": null,
      "outputs": [
        {
          "output_type": "stream",
          "name": "stdout",
          "text": [
            "Updating your Colab environment.  This will restart your kernel.  Don't Panic!\n",
            "Get:1 https://cloud.r-project.org/bin/linux/ubuntu bionic-cran40/ InRelease [3,626 B]\n",
            "Get:2 http://security.ubuntu.com/ubuntu bionic-security InRelease [88.7 kB]\n",
            "Ign:3 https://developer.download.nvidia.com/compute/machine-learning/repos/ubuntu1804/x86_64  InRelease\n",
            "Get:4 https://developer.download.nvidia.com/compute/cuda/repos/ubuntu1804/x86_64  InRelease [1,581 B]\n",
            "Hit:5 https://developer.download.nvidia.com/compute/machine-learning/repos/ubuntu1804/x86_64  Release\n",
            "Hit:6 http://archive.ubuntu.com/ubuntu bionic InRelease\n",
            "Get:7 https://developer.download.nvidia.com/compute/cuda/repos/ubuntu1804/x86_64  Packages [1,082 kB]\n",
            "Hit:9 http://ppa.launchpad.net/c2d4u.team/c2d4u4.0+/ubuntu bionic InRelease\n",
            "Get:10 http://archive.ubuntu.com/ubuntu bionic-updates InRelease [88.7 kB]\n",
            "Hit:11 http://ppa.launchpad.net/cran/libgit2/ubuntu bionic InRelease\n",
            "Get:12 http://security.ubuntu.com/ubuntu bionic-security/universe amd64 Packages [1,567 kB]\n",
            "Hit:13 http://ppa.launchpad.net/deadsnakes/ppa/ubuntu bionic InRelease\n",
            "Get:14 http://archive.ubuntu.com/ubuntu bionic-backports InRelease [83.3 kB]\n",
            "Hit:15 http://ppa.launchpad.net/graphics-drivers/ppa/ubuntu bionic InRelease\n",
            "Get:16 http://archive.ubuntu.com/ubuntu bionic-updates/main amd64 Packages [3,524 kB]\n",
            "Get:17 http://ppa.launchpad.net/ubuntu-toolchain-r/test/ubuntu bionic InRelease [20.8 kB]\n",
            "Get:18 http://security.ubuntu.com/ubuntu bionic-security/main amd64 Packages [3,099 kB]\n",
            "Get:19 http://ppa.launchpad.net/ubuntu-toolchain-r/test/ubuntu bionic/main amd64 Packages [50.4 kB]\n",
            "Get:20 http://archive.ubuntu.com/ubuntu bionic-updates/universe amd64 Packages [2,342 kB]\n",
            "Fetched 12.0 MB in 4s (2,915 kB/s)\n",
            "Reading package lists... Done\n",
            "Added repo\n",
            "Hit:1 https://cloud.r-project.org/bin/linux/ubuntu bionic-cran40/ InRelease\n",
            "Hit:2 http://ppa.launchpad.net/c2d4u.team/c2d4u4.0+/ubuntu bionic InRelease\n",
            "Ign:3 https://developer.download.nvidia.com/compute/machine-learning/repos/ubuntu1804/x86_64  InRelease\n",
            "Hit:4 https://developer.download.nvidia.com/compute/cuda/repos/ubuntu1804/x86_64  InRelease\n",
            "Hit:5 https://developer.download.nvidia.com/compute/machine-learning/repos/ubuntu1804/x86_64  Release\n",
            "Hit:6 http://security.ubuntu.com/ubuntu bionic-security InRelease\n",
            "Hit:7 http://archive.ubuntu.com/ubuntu bionic InRelease\n",
            "Hit:9 http://archive.ubuntu.com/ubuntu bionic-updates InRelease\n",
            "Hit:10 http://ppa.launchpad.net/cran/libgit2/ubuntu bionic InRelease\n",
            "Hit:11 http://archive.ubuntu.com/ubuntu bionic-backports InRelease\n",
            "Hit:12 http://ppa.launchpad.net/deadsnakes/ppa/ubuntu bionic InRelease\n",
            "Hit:13 http://ppa.launchpad.net/graphics-drivers/ppa/ubuntu bionic InRelease\n",
            "Hit:14 http://ppa.launchpad.net/ubuntu-toolchain-r/test/ubuntu bionic InRelease\n",
            "Reading package lists... Done\n",
            "Installing libstdc++\n",
            "Reading package lists... Done\n",
            "Building dependency tree       \n",
            "Reading state information... Done\n",
            "Selected version '11.1.0-1ubuntu1~18.04.1' (Toolchain test builds:18.04/bionic [amd64]) for 'libstdc++6'\n",
            "The following package was automatically installed and is no longer required:\n",
            "  libnvidia-common-460\n",
            "Use 'sudo apt autoremove' to remove it.\n",
            "The following additional packages will be installed:\n",
            "  gcc-11-base libgcc-s1\n",
            "The following NEW packages will be installed:\n",
            "  gcc-11-base libgcc-s1\n",
            "The following packages will be upgraded:\n",
            "  libstdc++6\n",
            "1 upgraded, 2 newly installed, 0 to remove and 32 not upgraded.\n",
            "Need to get 641 kB of archives.\n",
            "After this operation, 981 kB of additional disk space will be used.\n",
            "Get:1 http://ppa.launchpad.net/ubuntu-toolchain-r/test/ubuntu bionic/main amd64 gcc-11-base amd64 11.1.0-1ubuntu1~18.04.1 [19.0 kB]\n",
            "Get:2 http://ppa.launchpad.net/ubuntu-toolchain-r/test/ubuntu bionic/main amd64 libgcc-s1 amd64 11.1.0-1ubuntu1~18.04.1 [41.8 kB]\n",
            "Get:3 http://ppa.launchpad.net/ubuntu-toolchain-r/test/ubuntu bionic/main amd64 libstdc++6 amd64 11.1.0-1ubuntu1~18.04.1 [580 kB]\n",
            "Fetched 641 kB in 2s (279 kB/s)\n",
            "debconf: unable to initialize frontend: Dialog\n",
            "debconf: (No usable dialog-like program is installed, so the dialog based frontend cannot be used. at /usr/share/perl5/Debconf/FrontEnd/Dialog.pm line 76, <> line 3.)\n",
            "debconf: falling back to frontend: Readline\n",
            "debconf: unable to initialize frontend: Readline\n",
            "debconf: (This frontend requires a controlling tty.)\n",
            "debconf: falling back to frontend: Teletype\n",
            "dpkg-preconfigure: unable to re-open stdin: \n",
            "Selecting previously unselected package gcc-11-base:amd64.\n",
            "(Reading database ... 124013 files and directories currently installed.)\n",
            "Preparing to unpack .../gcc-11-base_11.1.0-1ubuntu1~18.04.1_amd64.deb ...\n",
            "Unpacking gcc-11-base:amd64 (11.1.0-1ubuntu1~18.04.1) ...\n",
            "Setting up gcc-11-base:amd64 (11.1.0-1ubuntu1~18.04.1) ...\n",
            "Selecting previously unselected package libgcc-s1:amd64.\n",
            "(Reading database ... 124018 files and directories currently installed.)\n",
            "Preparing to unpack .../libgcc-s1_11.1.0-1ubuntu1~18.04.1_amd64.deb ...\n",
            "Unpacking libgcc-s1:amd64 (11.1.0-1ubuntu1~18.04.1) ...\n",
            "Replacing files in old package libgcc1:amd64 (1:8.4.0-1ubuntu1~18.04) ...\n",
            "Setting up libgcc-s1:amd64 (11.1.0-1ubuntu1~18.04.1) ...\n",
            "(Reading database ... 124020 files and directories currently installed.)\n",
            "Preparing to unpack .../libstdc++6_11.1.0-1ubuntu1~18.04.1_amd64.deb ...\n",
            "Unpacking libstdc++6:amd64 (11.1.0-1ubuntu1~18.04.1) over (8.4.0-1ubuntu1~18.04) ...\n",
            "Setting up libstdc++6:amd64 (11.1.0-1ubuntu1~18.04.1) ...\n",
            "Processing triggers for libc-bin (2.27-3ubuntu1.6) ...\n",
            "restarting Colab...\n"
          ]
        }
      ]
    },
    {
      "cell_type": "code",
      "source": [
        "!python --version"
      ],
      "metadata": {
        "colab": {
          "base_uri": "https://localhost:8080/"
        },
        "id": "yagIxYhBRPHC",
        "outputId": "f1c4e4f6-bb1e-48c9-b457-2025d987bd98"
      },
      "execution_count": 1,
      "outputs": [
        {
          "output_type": "stream",
          "name": "stdout",
          "text": [
            "Python 3.8.16\n"
          ]
        }
      ]
    },
    {
      "cell_type": "code",
      "metadata": {
        "id": "qg2SasWKaBsB",
        "colab": {
          "base_uri": "https://localhost:8080/"
        },
        "outputId": "cb7d28bc-073b-4272-d5b3-63eb4b5cc7b2",
        "pycharm": {
          "name": "#%%\n"
        }
      },
      "source": [
        "# This will install CondaColab.  This will restart your kernel one last time.  \n",
        "# Run this cell by itself and only run the next cell once you see the session crash.\n",
        "import condacolab\n",
        "condacolab.install()"
      ],
      "execution_count": 7,
      "outputs": [
        {
          "output_type": "stream",
          "name": "stdout",
          "text": [
            "✨🍰✨ Everything looks OK!\n"
          ]
        }
      ]
    },
    {
      "cell_type": "code",
      "metadata": {
        "id": "fKSMDrN_aB-v",
        "colab": {
          "base_uri": "https://localhost:8080/"
        },
        "outputId": "c9e1bab8-980e-41be-dbf3-a131c688634f",
        "pycharm": {
          "name": "#%%\n"
        }
      },
      "source": [
        "# Start running the rest of the cells as normal\n",
        "import condacolab\n",
        "condacolab.check()"
      ],
      "execution_count": 1,
      "outputs": [
        {
          "output_type": "stream",
          "name": "stdout",
          "text": [
            "✨🍰✨ Everything looks OK!\n"
          ]
        }
      ]
    },
    {
      "cell_type": "code",
      "source": [
        "#Installing RAPIDS\n",
        "!pip install cudf-cu11 dask-cudf-cu11 --extra-index-url=https://pypi.ngc.nvidia.com\n",
        "!pip install cuml-cu11 --extra-index-url=https://pypi.ngc.nvidia.com\n",
        "!pip install cugraph-cu11 --extra-index-url=https://pypi.ngc.nvidia.com\n",
        "!pip uninstall cupy-cuda115; pip install cupy-cuda11x"
      ],
      "metadata": {
        "colab": {
          "base_uri": "https://localhost:8080/",
          "height": 1000
        },
        "id": "V4kN1Whxv6uo",
        "outputId": "59985901-4b9f-4b96-d5bc-4a82872d794f"
      },
      "execution_count": 4,
      "outputs": [
        {
          "output_type": "stream",
          "name": "stdout",
          "text": [
            "Looking in indexes: https://pypi.org/simple, https://us-python.pkg.dev/colab-wheels/public/simple/, https://pypi.ngc.nvidia.com\n",
            "Collecting cudf-cu11\n",
            "  Downloading https://developer.download.nvidia.com/compute/redist/cudf-cu11/cudf_cu11-22.12.0-cp38-cp38-manylinux_2_17_x86_64.manylinux2014_x86_64.whl (442.8 MB)\n",
            "\u001b[2K     \u001b[90m━━━━━━━━━━━━━━━━━━━━━━━━━━━━━━━━━━━━━━━\u001b[0m \u001b[32m442.8/442.8 MB\u001b[0m \u001b[31m3.3 MB/s\u001b[0m eta \u001b[36m0:00:00\u001b[0m\n",
            "\u001b[?25hCollecting dask-cudf-cu11\n",
            "  Downloading https://developer.download.nvidia.com/compute/redist/dask-cudf-cu11/dask_cudf_cu11-22.12.0.post1-py3-none-any.whl (76 kB)\n",
            "\u001b[2K     \u001b[90m━━━━━━━━━━━━━━━━━━━━━━━━━━━━━━━━━━━━━━━━\u001b[0m \u001b[32m76.6/76.6 kB\u001b[0m \u001b[31m8.9 MB/s\u001b[0m eta \u001b[36m0:00:00\u001b[0m\n",
            "\u001b[?25hCollecting pandas<1.6.0dev0,>=1.0\n",
            "  Downloading pandas-1.5.2-cp38-cp38-manylinux_2_17_x86_64.manylinux2014_x86_64.whl (12.2 MB)\n",
            "\u001b[2K     \u001b[90m━━━━━━━━━━━━━━━━━━━━━━━━━━━━━━━━━━━━━━━━\u001b[0m \u001b[32m12.2/12.2 MB\u001b[0m \u001b[31m87.4 MB/s\u001b[0m eta \u001b[36m0:00:00\u001b[0m\n",
            "\u001b[?25hCollecting pyarrow==9.0.0\n",
            "  Downloading pyarrow-9.0.0-cp38-cp38-manylinux_2_17_x86_64.manylinux2014_x86_64.whl (35.3 MB)\n",
            "\u001b[2K     \u001b[90m━━━━━━━━━━━━━━━━━━━━━━━━━━━━━━━━━━━━━━━━\u001b[0m \u001b[32m35.3/35.3 MB\u001b[0m \u001b[31m47.0 MB/s\u001b[0m eta \u001b[36m0:00:00\u001b[0m\n",
            "\u001b[?25hCollecting numpy\n",
            "  Downloading numpy-1.23.5-cp38-cp38-manylinux_2_17_x86_64.manylinux2014_x86_64.whl (17.1 MB)\n",
            "\u001b[2K     \u001b[90m━━━━━━━━━━━━━━━━━━━━━━━━━━━━━━━━━━━━━━━━\u001b[0m \u001b[32m17.1/17.1 MB\u001b[0m \u001b[31m83.6 MB/s\u001b[0m eta \u001b[36m0:00:00\u001b[0m\n",
            "\u001b[?25hCollecting numba>=0.56.2\n",
            "  Downloading numba-0.56.4-cp38-cp38-manylinux2014_x86_64.manylinux_2_17_x86_64.whl (3.5 MB)\n",
            "\u001b[2K     \u001b[90m━━━━━━━━━━━━━━━━━━━━━━━━━━━━━━━━━━━━━━━━\u001b[0m \u001b[32m3.5/3.5 MB\u001b[0m \u001b[31m90.3 MB/s\u001b[0m eta \u001b[36m0:00:00\u001b[0m\n",
            "\u001b[?25hCollecting cuda-python<12.0,>=11.7.1\n",
            "  Downloading cuda_python-11.8.1-cp38-cp38-manylinux_2_17_x86_64.manylinux2014_x86_64.whl (16.2 MB)\n",
            "\u001b[2K     \u001b[90m━━━━━━━━━━━━━━━━━━━━━━━━━━━━━━━━━━━━━━━━\u001b[0m \u001b[32m16.2/16.2 MB\u001b[0m \u001b[31m74.4 MB/s\u001b[0m eta \u001b[36m0:00:00\u001b[0m\n",
            "\u001b[?25hCollecting cachetools\n",
            "  Downloading cachetools-5.2.0-py3-none-any.whl (9.3 kB)\n",
            "Collecting protobuf<3.21.0a0,>=3.20.1\n",
            "  Downloading protobuf-3.20.3-cp38-cp38-manylinux_2_5_x86_64.manylinux1_x86_64.whl (1.0 MB)\n",
            "\u001b[2K     \u001b[90m━━━━━━━━━━━━━━━━━━━━━━━━━━━━━━━━━━━━━━━━\u001b[0m \u001b[32m1.0/1.0 MB\u001b[0m \u001b[31m52.1 MB/s\u001b[0m eta \u001b[36m0:00:00\u001b[0m\n",
            "\u001b[?25hCollecting typing-extensions\n",
            "  Downloading typing_extensions-4.4.0-py3-none-any.whl (26 kB)\n",
            "Collecting cubinlinker-cu11\n",
            "  Downloading https://developer.download.nvidia.com/compute/redist/cubinlinker-cu11/cubinlinker_cu11-0.3.0.post1-cp38-cp38-manylinux_2_17_x86_64.manylinux2014_x86_64.whl (8.8 MB)\n",
            "\u001b[2K     \u001b[90m━━━━━━━━━━━━━━━━━━━━━━━━━━━━━━━━━━━━━━━━\u001b[0m \u001b[32m8.8/8.8 MB\u001b[0m \u001b[31m28.0 MB/s\u001b[0m eta \u001b[36m0:00:00\u001b[0m\n",
            "\u001b[?25hCollecting cupy-cuda11x\n",
            "  Downloading cupy_cuda11x-11.4.0-cp38-cp38-manylinux1_x86_64.whl (93.7 MB)\n",
            "\u001b[2K     \u001b[90m━━━━━━━━━━━━━━━━━━━━━━━━━━━━━━━━━━━━━━━━\u001b[0m \u001b[32m93.7/93.7 MB\u001b[0m \u001b[31m11.4 MB/s\u001b[0m eta \u001b[36m0:00:00\u001b[0m\n",
            "\u001b[?25hCollecting nvtx>=0.2.1\n",
            "  Downloading nvtx-0.2.5-cp38-cp38-manylinux_2_17_x86_64.manylinux2014_x86_64.whl (453 kB)\n",
            "\u001b[2K     \u001b[90m━━━━━━━━━━━━━━━━━━━━━━━━━━━━━━━━━━━━━━\u001b[0m \u001b[32m453.6/453.6 kB\u001b[0m \u001b[31m32.2 MB/s\u001b[0m eta \u001b[36m0:00:00\u001b[0m\n",
            "\u001b[?25hCollecting packaging\n",
            "  Downloading packaging-22.0-py3-none-any.whl (42 kB)\n",
            "\u001b[2K     \u001b[90m━━━━━━━━━━━━━━━━━━━━━━━━━━━━━━━━━━━━━━━━\u001b[0m \u001b[32m42.6/42.6 kB\u001b[0m \u001b[31m6.0 MB/s\u001b[0m eta \u001b[36m0:00:00\u001b[0m\n",
            "\u001b[?25hCollecting ptxcompiler-cu11\n",
            "  Downloading https://developer.download.nvidia.com/compute/redist/ptxcompiler-cu11/ptxcompiler_cu11-0.7.0.post1-cp38-cp38-manylinux_2_17_x86_64.manylinux2014_x86_64.whl (8.8 MB)\n",
            "\u001b[2K     \u001b[90m━━━━━━━━━━━━━━━━━━━━━━━━━━━━━━━━━━━━━━━━\u001b[0m \u001b[32m8.8/8.8 MB\u001b[0m \u001b[31m27.4 MB/s\u001b[0m eta \u001b[36m0:00:00\u001b[0m\n",
            "\u001b[?25hCollecting fsspec>=0.6.0\n",
            "  Downloading fsspec-2022.11.0-py3-none-any.whl (139 kB)\n",
            "\u001b[2K     \u001b[90m━━━━━━━━━━━━━━━━━━━━━━━━━━━━━━━━━━━━━━\u001b[0m \u001b[32m139.5/139.5 kB\u001b[0m \u001b[31m16.6 MB/s\u001b[0m eta \u001b[36m0:00:00\u001b[0m\n",
            "\u001b[?25hCollecting rmm-cu11\n",
            "  Downloading https://developer.download.nvidia.com/compute/redist/rmm-cu11/rmm_cu11-22.12.0-cp38-cp38-manylinux_2_17_x86_64.manylinux2014_x86_64.whl (1.8 MB)\n",
            "\u001b[2K     \u001b[90m━━━━━━━━━━━━━━━━━━━━━━━━━━━━━━━━━━━━━━━━\u001b[0m \u001b[32m1.8/1.8 MB\u001b[0m \u001b[31m27.7 MB/s\u001b[0m eta \u001b[36m0:00:00\u001b[0m\n",
            "\u001b[?25hCollecting distributed==2022.11.1\n",
            "  Downloading distributed-2022.11.1-py3-none-any.whl (923 kB)\n",
            "\u001b[2K     \u001b[90m━━━━━━━━━━━━━━━━━━━━━━━━━━━━━━━━━━━━━━\u001b[0m \u001b[32m923.4/923.4 kB\u001b[0m \u001b[31m47.5 MB/s\u001b[0m eta \u001b[36m0:00:00\u001b[0m\n",
            "\u001b[?25hCollecting dask==2022.11.1\n",
            "  Downloading dask-2022.11.1-py3-none-any.whl (1.1 MB)\n",
            "\u001b[2K     \u001b[90m━━━━━━━━━━━━━━━━━━━━━━━━━━━━━━━━━━━━━━━━\u001b[0m \u001b[32m1.1/1.1 MB\u001b[0m \u001b[31m40.1 MB/s\u001b[0m eta \u001b[36m0:00:00\u001b[0m\n",
            "\u001b[?25hCollecting click>=7.0\n",
            "  Downloading click-8.1.3-py3-none-any.whl (96 kB)\n",
            "\u001b[2K     \u001b[90m━━━━━━━━━━━━━━━━━━━━━━━━━━━━━━━━━━━━━━━━\u001b[0m \u001b[32m96.6/96.6 kB\u001b[0m \u001b[31m1.8 MB/s\u001b[0m eta \u001b[36m0:00:00\u001b[0m\n",
            "\u001b[?25hCollecting cloudpickle>=1.1.1\n",
            "  Downloading cloudpickle-2.2.0-py3-none-any.whl (25 kB)\n",
            "Requirement already satisfied: toolz>=0.8.2 in /usr/local/lib/python3.8/site-packages (from dask==2022.11.1->dask-cudf-cu11) (0.12.0)\n",
            "Collecting pyyaml>=5.3.1\n",
            "  Downloading PyYAML-6.0-cp38-cp38-manylinux_2_5_x86_64.manylinux1_x86_64.manylinux_2_12_x86_64.manylinux2010_x86_64.whl (701 kB)\n",
            "\u001b[2K     \u001b[90m━━━━━━━━━━━━━━━━━━━━━━━━━━━━━━━━━━━━━━\u001b[0m \u001b[32m701.2/701.2 kB\u001b[0m \u001b[31m26.7 MB/s\u001b[0m eta \u001b[36m0:00:00\u001b[0m\n",
            "\u001b[?25hCollecting partd>=0.3.10\n",
            "  Downloading partd-1.3.0-py3-none-any.whl (18 kB)\n",
            "Collecting msgpack>=0.6.0\n",
            "  Downloading msgpack-1.0.4-cp38-cp38-manylinux_2_17_x86_64.manylinux2014_x86_64.whl (322 kB)\n",
            "\u001b[2K     \u001b[90m━━━━━━━━━━━━━━━━━━━━━━━━━━━━━━━━━━━━━━\u001b[0m \u001b[32m322.5/322.5 kB\u001b[0m \u001b[31m15.6 MB/s\u001b[0m eta \u001b[36m0:00:00\u001b[0m\n",
            "\u001b[?25hCollecting zict>=0.1.3\n",
            "  Downloading zict-2.2.0-py2.py3-none-any.whl (23 kB)\n",
            "Collecting locket>=1.0.0\n",
            "  Downloading locket-1.0.0-py2.py3-none-any.whl (4.4 kB)\n",
            "Collecting psutil>=5.0\n",
            "  Downloading psutil-5.9.4-cp36-abi3-manylinux_2_12_x86_64.manylinux2010_x86_64.manylinux_2_17_x86_64.manylinux2014_x86_64.whl (280 kB)\n",
            "\u001b[2K     \u001b[90m━━━━━━━━━━━━━━━━━━━━━━━━━━━━━━━━━━━━━━\u001b[0m \u001b[32m280.2/280.2 kB\u001b[0m \u001b[31m31.8 MB/s\u001b[0m eta \u001b[36m0:00:00\u001b[0m\n",
            "\u001b[?25hCollecting sortedcontainers!=2.0.0,!=2.0.1\n",
            "  Downloading sortedcontainers-2.4.0-py2.py3-none-any.whl (29 kB)\n",
            "Collecting tblib>=1.6.0\n",
            "  Downloading tblib-1.7.0-py2.py3-none-any.whl (12 kB)\n",
            "Requirement already satisfied: urllib3 in /usr/local/lib/python3.8/site-packages (from distributed==2022.11.1->dask-cudf-cu11) (1.26.13)\n",
            "Collecting tornado<6.2,>=6.0.3\n",
            "  Downloading tornado-6.1-cp38-cp38-manylinux2010_x86_64.whl (427 kB)\n",
            "\u001b[2K     \u001b[90m━━━━━━━━━━━━━━━━━━━━━━━━━━━━━━━━━━━━━━\u001b[0m \u001b[32m427.5/427.5 kB\u001b[0m \u001b[31m29.0 MB/s\u001b[0m eta \u001b[36m0:00:00\u001b[0m\n",
            "\u001b[?25hCollecting jinja2\n",
            "  Downloading Jinja2-3.1.2-py3-none-any.whl (133 kB)\n",
            "\u001b[2K     \u001b[90m━━━━━━━━━━━━━━━━━━━━━━━━━━━━━━━━━━━━━━\u001b[0m \u001b[32m133.1/133.1 kB\u001b[0m \u001b[31m18.6 MB/s\u001b[0m eta \u001b[36m0:00:00\u001b[0m\n",
            "\u001b[?25hCollecting cython\n",
            "  Downloading Cython-0.29.32-cp38-cp38-manylinux_2_17_x86_64.manylinux2014_x86_64.manylinux_2_24_x86_64.whl (1.9 MB)\n",
            "\u001b[2K     \u001b[90m━━━━━━━━━━━━━━━━━━━━━━━━━━━━━━━━━━━━━━━━\u001b[0m \u001b[32m1.9/1.9 MB\u001b[0m \u001b[31m76.6 MB/s\u001b[0m eta \u001b[36m0:00:00\u001b[0m\n",
            "\u001b[?25hCollecting llvmlite<0.40,>=0.39.0dev0\n",
            "  Downloading llvmlite-0.39.1-cp38-cp38-manylinux_2_17_x86_64.manylinux2014_x86_64.whl (34.6 MB)\n",
            "\u001b[2K     \u001b[90m━━━━━━━━━━━━━━━━━━━━━━━━━━━━━━━━━━━━━━━━\u001b[0m \u001b[32m34.6/34.6 MB\u001b[0m \u001b[31m18.0 MB/s\u001b[0m eta \u001b[36m0:00:00\u001b[0m\n",
            "\u001b[?25hCollecting importlib-metadata\n",
            "  Downloading importlib_metadata-5.1.0-py3-none-any.whl (21 kB)\n",
            "Requirement already satisfied: setuptools in /usr/local/lib/python3.8/site-packages (from numba>=0.56.2->cudf-cu11) (65.5.1)\n",
            "Collecting python-dateutil>=2.8.1\n",
            "  Downloading python_dateutil-2.8.2-py2.py3-none-any.whl (247 kB)\n",
            "\u001b[2K     \u001b[90m━━━━━━━━━━━━━━━━━━━━━━━━━━━━━━━━━━━━━━\u001b[0m \u001b[32m247.7/247.7 kB\u001b[0m \u001b[31m28.9 MB/s\u001b[0m eta \u001b[36m0:00:00\u001b[0m\n",
            "\u001b[?25hCollecting pytz>=2020.1\n",
            "  Downloading pytz-2022.6-py2.py3-none-any.whl (498 kB)\n",
            "\u001b[2K     \u001b[90m━━━━━━━━━━━━━━━━━━━━━━━━━━━━━━━━━━━━━━\u001b[0m \u001b[32m498.1/498.1 kB\u001b[0m \u001b[31m33.0 MB/s\u001b[0m eta \u001b[36m0:00:00\u001b[0m\n",
            "\u001b[?25hCollecting fastrlock>=0.5\n",
            "  Downloading fastrlock-0.8.1-cp38-cp38-manylinux_2_5_x86_64.manylinux1_x86_64.manylinux_2_24_x86_64.whl (48 kB)\n",
            "\u001b[2K     \u001b[90m━━━━━━━━━━━━━━━━━━━━━━━━━━━━━━━━━━━━━━━━\u001b[0m \u001b[32m48.9/48.9 kB\u001b[0m \u001b[31m6.6 MB/s\u001b[0m eta \u001b[36m0:00:00\u001b[0m\n",
            "\u001b[?25hCollecting six>=1.5\n",
            "  Downloading six-1.16.0-py2.py3-none-any.whl (11 kB)\n",
            "Collecting heapdict\n",
            "  Downloading HeapDict-1.0.1-py3-none-any.whl (3.9 kB)\n",
            "Collecting zipp>=0.5\n",
            "  Downloading zipp-3.11.0-py3-none-any.whl (6.6 kB)\n",
            "Collecting MarkupSafe>=2.0\n",
            "  Downloading MarkupSafe-2.1.1-cp38-cp38-manylinux_2_17_x86_64.manylinux2014_x86_64.whl (25 kB)\n",
            "Installing collected packages: sortedcontainers, pytz, ptxcompiler-cu11, nvtx, msgpack, heapdict, fastrlock, cubinlinker-cu11, zipp, zict, typing-extensions, tornado, tblib, six, pyyaml, psutil, protobuf, packaging, numpy, MarkupSafe, locket, llvmlite, fsspec, cython, cloudpickle, click, cachetools, python-dateutil, pyarrow, partd, jinja2, importlib-metadata, cupy-cuda11x, cuda-python, pandas, numba, dask, rmm-cu11, distributed, cudf-cu11, dask-cudf-cu11\n",
            "Successfully installed MarkupSafe-2.1.1 cachetools-5.2.0 click-8.1.3 cloudpickle-2.2.0 cubinlinker-cu11-0.3.0.post1 cuda-python-11.8.1 cudf-cu11-22.12.0 cupy-cuda11x-11.4.0 cython-0.29.32 dask-2022.11.1 dask-cudf-cu11-22.12.0.post1 distributed-2022.11.1 fastrlock-0.8.1 fsspec-2022.11.0 heapdict-1.0.1 importlib-metadata-5.1.0 jinja2-3.1.2 llvmlite-0.39.1 locket-1.0.0 msgpack-1.0.4 numba-0.56.4 numpy-1.23.5 nvtx-0.2.5 packaging-22.0 pandas-1.5.2 partd-1.3.0 protobuf-3.20.3 psutil-5.9.4 ptxcompiler-cu11-0.7.0.post1 pyarrow-9.0.0 python-dateutil-2.8.2 pytz-2022.6 pyyaml-6.0 rmm-cu11-22.12.0 six-1.16.0 sortedcontainers-2.4.0 tblib-1.7.0 tornado-6.1 typing-extensions-4.4.0 zict-2.2.0 zipp-3.11.0\n",
            "\u001b[33mWARNING: Running pip as the 'root' user can result in broken permissions and conflicting behaviour with the system package manager. It is recommended to use a virtual environment instead: https://pip.pypa.io/warnings/venv\u001b[0m\u001b[33m\n",
            "\u001b[0m"
          ]
        },
        {
          "output_type": "display_data",
          "data": {
            "application/vnd.colab-display-data+json": {
              "pip_warning": {
                "packages": [
                  "dateutil"
                ]
              }
            }
          },
          "metadata": {}
        },
        {
          "output_type": "stream",
          "name": "stdout",
          "text": [
            "Looking in indexes: https://pypi.org/simple, https://us-python.pkg.dev/colab-wheels/public/simple/, https://pypi.ngc.nvidia.com\n",
            "Collecting cuml-cu11\n",
            "  Downloading https://developer.download.nvidia.com/compute/redist/cuml-cu11/cuml_cu11-22.12.0-cp38-cp38-manylinux_2_17_x86_64.manylinux2014_x86_64.whl (1359.8 MB)\n",
            "\u001b[2K     \u001b[91m━━━━━━━━━━━━━━━━━━━━━━━━━━━━━━━━━━━━━━━\u001b[0m\u001b[91m╸\u001b[0m \u001b[32m1.4/1.4 GB\u001b[0m \u001b[31m34.8 MB/s\u001b[0m eta \u001b[36m0:00:01\u001b[0mtcmalloc: large alloc 1359798272 bytes == 0x555baa4e8000 @  0x7f9218ca21e7 0x555ba8248f72 0x555ba8257d5e 0x555ba829ba57 0x555ba830430b 0x555ba83041c3 0x555ba827db83 0x555ba825fc85 0x555ba825e351 0x555ba827026c 0x555ba825fc85 0x555ba825e351 0x555ba827026c 0x555ba825fc85 0x555ba825e351 0x555ba827026c 0x555ba825fc85 0x555ba825e351 0x555ba827026c 0x555ba825fc85 0x555ba825e351 0x555ba827026c 0x555ba825fc85 0x555ba82701d6 0x555ba825fc85 0x555ba825e351 0x555ba827026c 0x555ba82606fa 0x555ba825e351 0x555ba827026c 0x555ba825fc85\n",
            "\u001b[2K     \u001b[91m━━━━━━━━━━━━━━━━━━━━━━━━━━━━━━━━━━━━━━━\u001b[0m\u001b[91m╸\u001b[0m \u001b[32m1.4/1.4 GB\u001b[0m \u001b[31m34.7 MB/s\u001b[0m eta \u001b[36m0:00:01\u001b[0mtcmalloc: large alloc 1699749888 bytes == 0x555bfb5b6000 @  0x7f9218ca3615 0x555ba829ba57 0x555ba830430b 0x555ba83041c3 0x555ba827db83 0x555ba825fc85 0x555ba825e351 0x555ba827026c 0x555ba825fc85 0x555ba825e351 0x555ba827026c 0x555ba825fc85 0x555ba825e351 0x555ba827026c 0x555ba825fc85 0x555ba825e351 0x555ba827026c 0x555ba825fc85 0x555ba825e351 0x555ba827026c 0x555ba825fc85 0x555ba82701d6 0x555ba825fc85 0x555ba825e351 0x555ba827026c 0x555ba82606fa 0x555ba825e351 0x555ba827026c 0x555ba825fc85 0x555ba825e351 0x555ba827026c\n",
            "tcmalloc: large alloc 1359798272 bytes == 0x555baa4e8000 @  0x7f9218ca21e7 0x555ba825c6cb 0x555ba8348593 0x555ba827db83 0x555ba825fc85 0x555ba825e351 0x555ba827026c 0x555ba825fc85 0x555ba825e351 0x555ba827026c 0x555ba825fc85 0x555ba825e351 0x555ba827026c 0x555ba827f95b 0x555ba8267c80 0x555ba8341459 0x555ba8268541 0x555ba8264374 0x555ba827f696 0x555ba8263e80 0x555ba825e351 0x555ba827f77c 0x555ba8263e80 0x555ba82701d6 0x555ba825fc85 0x555ba825e351 0x555ba827f77c 0x555ba82606fa 0x555ba8287af8 0x555ba825ff51 0x555ba8287af8\n",
            "\u001b[2K     \u001b[90m━━━━━━━━━━━━━━━━━━━━━━━━━━━━━━━━━━━━━━━━\u001b[0m \u001b[32m1.4/1.4 GB\u001b[0m \u001b[31m1.2 MB/s\u001b[0m eta \u001b[36m0:00:00\u001b[0m\n",
            "\u001b[?25hCollecting raft-dask-cu11\n",
            "  Downloading https://developer.download.nvidia.com/compute/redist/raft-dask-cu11/raft_dask_cu11-22.12.0.post1-cp38-cp38-manylinux_2_17_x86_64.manylinux2014_x86_64.whl (210.5 MB)\n",
            "\u001b[2K     \u001b[90m━━━━━━━━━━━━━━━━━━━━━━━━━━━━━━━━━━━━━━━\u001b[0m \u001b[32m210.5/210.5 MB\u001b[0m \u001b[31m5.3 MB/s\u001b[0m eta \u001b[36m0:00:00\u001b[0m\n",
            "\u001b[?25hCollecting seaborn\n",
            "  Downloading seaborn-0.12.1-py3-none-any.whl (288 kB)\n",
            "\u001b[2K     \u001b[90m━━━━━━━━━━━━━━━━━━━━━━━━━━━━━━━━━━━━━━━\u001b[0m \u001b[32m288.2/288.2 kB\u001b[0m \u001b[31m3.6 MB/s\u001b[0m eta \u001b[36m0:00:00\u001b[0m\n",
            "\u001b[?25hRequirement already satisfied: dask-cudf-cu11 in /usr/local/lib/python3.8/site-packages (from cuml-cu11) (22.12.0.post1)\n",
            "Collecting pylibraft-cu11\n",
            "  Downloading https://developer.download.nvidia.com/compute/redist/pylibraft-cu11/pylibraft_cu11-22.12.0-cp38-cp38-manylinux_2_17_x86_64.manylinux2014_x86_64.whl (580.3 MB)\n",
            "\u001b[2K     \u001b[90m━━━━━━━━━━━━━━━━━━━━━━━━━━━━━━━━━━━━━━━\u001b[0m \u001b[32m580.3/580.3 MB\u001b[0m \u001b[31m2.4 MB/s\u001b[0m eta \u001b[36m0:00:00\u001b[0m\n",
            "\u001b[?25hCollecting treelite==3.0.1\n",
            "  Downloading treelite-3.0.1-py3-none-manylinux2014_x86_64.whl (864 kB)\n",
            "\u001b[2K     \u001b[90m━━━━━━━━━━━━━━━━━━━━━━━━━━━━━━━━━━━━━━\u001b[0m \u001b[32m864.6/864.6 kB\u001b[0m \u001b[31m24.0 MB/s\u001b[0m eta \u001b[36m0:00:00\u001b[0m\n",
            "\u001b[?25hCollecting scipy\n",
            "  Downloading scipy-1.9.3-cp38-cp38-manylinux_2_17_x86_64.manylinux2014_x86_64.whl (33.8 MB)\n",
            "\u001b[2K     \u001b[90m━━━━━━━━━━━━━━━━━━━━━━━━━━━━━━━━━━━━━━━━\u001b[0m \u001b[32m33.8/33.8 MB\u001b[0m \u001b[31m46.6 MB/s\u001b[0m eta \u001b[36m0:00:00\u001b[0m\n",
            "\u001b[?25hRequirement already satisfied: numba in /usr/local/lib/python3.8/site-packages (from cuml-cu11) (0.56.4)\n",
            "Requirement already satisfied: cudf-cu11 in /usr/local/lib/python3.8/site-packages (from cuml-cu11) (22.12.0)\n",
            "Collecting treelite-runtime==3.0.1\n",
            "  Downloading treelite_runtime-3.0.1-py3-none-manylinux2014_x86_64.whl (191 kB)\n",
            "\u001b[2K     \u001b[90m━━━━━━━━━━━━━━━━━━━━━━━━━━━━━━━━━━━━━━\u001b[0m \u001b[32m191.9/191.9 kB\u001b[0m \u001b[31m23.3 MB/s\u001b[0m eta \u001b[36m0:00:00\u001b[0m\n",
            "\u001b[?25hRequirement already satisfied: numpy in /usr/local/lib/python3.8/site-packages (from treelite==3.0.1->cuml-cu11) (1.23.5)\n",
            "Requirement already satisfied: packaging in /usr/local/lib/python3.8/site-packages (from cudf-cu11->cuml-cu11) (22.0)\n",
            "Requirement already satisfied: pandas<1.6.0dev0,>=1.0 in /usr/local/lib/python3.8/site-packages (from cudf-cu11->cuml-cu11) (1.5.2)\n",
            "Requirement already satisfied: rmm-cu11 in /usr/local/lib/python3.8/site-packages (from cudf-cu11->cuml-cu11) (22.12.0)\n",
            "Requirement already satisfied: nvtx>=0.2.1 in /usr/local/lib/python3.8/site-packages (from cudf-cu11->cuml-cu11) (0.2.5)\n",
            "Requirement already satisfied: protobuf<3.21.0a0,>=3.20.1 in /usr/local/lib/python3.8/site-packages (from cudf-cu11->cuml-cu11) (3.20.3)\n",
            "Requirement already satisfied: typing-extensions in /usr/local/lib/python3.8/site-packages (from cudf-cu11->cuml-cu11) (4.4.0)\n",
            "Requirement already satisfied: cuda-python<12.0,>=11.7.1 in /usr/local/lib/python3.8/site-packages (from cudf-cu11->cuml-cu11) (11.8.1)\n",
            "Requirement already satisfied: ptxcompiler-cu11 in /usr/local/lib/python3.8/site-packages (from cudf-cu11->cuml-cu11) (0.7.0.post1)\n",
            "Requirement already satisfied: cubinlinker-cu11 in /usr/local/lib/python3.8/site-packages (from cudf-cu11->cuml-cu11) (0.3.0.post1)\n",
            "Requirement already satisfied: cupy-cuda11x in /usr/local/lib/python3.8/site-packages (from cudf-cu11->cuml-cu11) (11.4.0)\n",
            "Requirement already satisfied: cachetools in /usr/local/lib/python3.8/site-packages (from cudf-cu11->cuml-cu11) (5.2.0)\n",
            "Requirement already satisfied: pyarrow==9.0.0 in /usr/local/lib/python3.8/site-packages (from cudf-cu11->cuml-cu11) (9.0.0)\n",
            "Requirement already satisfied: fsspec>=0.6.0 in /usr/local/lib/python3.8/site-packages (from cudf-cu11->cuml-cu11) (2022.11.0)\n",
            "Requirement already satisfied: llvmlite<0.40,>=0.39.0dev0 in /usr/local/lib/python3.8/site-packages (from numba->cuml-cu11) (0.39.1)\n",
            "Requirement already satisfied: setuptools in /usr/local/lib/python3.8/site-packages (from numba->cuml-cu11) (65.5.1)\n",
            "Requirement already satisfied: importlib-metadata in /usr/local/lib/python3.8/site-packages (from numba->cuml-cu11) (5.1.0)\n",
            "Requirement already satisfied: distributed==2022.11.1 in /usr/local/lib/python3.8/site-packages (from dask-cudf-cu11->cuml-cu11) (2022.11.1)\n",
            "Requirement already satisfied: dask==2022.11.1 in /usr/local/lib/python3.8/site-packages (from dask-cudf-cu11->cuml-cu11) (2022.11.1)\n",
            "Requirement already satisfied: pyyaml>=5.3.1 in /usr/local/lib/python3.8/site-packages (from dask==2022.11.1->dask-cudf-cu11->cuml-cu11) (6.0)\n",
            "Requirement already satisfied: partd>=0.3.10 in /usr/local/lib/python3.8/site-packages (from dask==2022.11.1->dask-cudf-cu11->cuml-cu11) (1.3.0)\n",
            "Requirement already satisfied: toolz>=0.8.2 in /usr/local/lib/python3.8/site-packages (from dask==2022.11.1->dask-cudf-cu11->cuml-cu11) (0.12.0)\n",
            "Requirement already satisfied: cloudpickle>=1.1.1 in /usr/local/lib/python3.8/site-packages (from dask==2022.11.1->dask-cudf-cu11->cuml-cu11) (2.2.0)\n",
            "Requirement already satisfied: click>=7.0 in /usr/local/lib/python3.8/site-packages (from dask==2022.11.1->dask-cudf-cu11->cuml-cu11) (8.1.3)\n",
            "Requirement already satisfied: tornado<6.2,>=6.0.3 in /usr/local/lib/python3.8/site-packages (from distributed==2022.11.1->dask-cudf-cu11->cuml-cu11) (6.1)\n",
            "Requirement already satisfied: msgpack>=0.6.0 in /usr/local/lib/python3.8/site-packages (from distributed==2022.11.1->dask-cudf-cu11->cuml-cu11) (1.0.4)\n",
            "Requirement already satisfied: zict>=0.1.3 in /usr/local/lib/python3.8/site-packages (from distributed==2022.11.1->dask-cudf-cu11->cuml-cu11) (2.2.0)\n",
            "Requirement already satisfied: psutil>=5.0 in /usr/local/lib/python3.8/site-packages (from distributed==2022.11.1->dask-cudf-cu11->cuml-cu11) (5.9.4)\n",
            "Requirement already satisfied: locket>=1.0.0 in /usr/local/lib/python3.8/site-packages (from distributed==2022.11.1->dask-cudf-cu11->cuml-cu11) (1.0.0)\n",
            "Requirement already satisfied: urllib3 in /usr/local/lib/python3.8/site-packages (from distributed==2022.11.1->dask-cudf-cu11->cuml-cu11) (1.26.13)\n",
            "Requirement already satisfied: sortedcontainers!=2.0.0,!=2.0.1 in /usr/local/lib/python3.8/site-packages (from distributed==2022.11.1->dask-cudf-cu11->cuml-cu11) (2.4.0)\n",
            "Requirement already satisfied: jinja2 in /usr/local/lib/python3.8/site-packages (from distributed==2022.11.1->dask-cudf-cu11->cuml-cu11) (3.1.2)\n",
            "Requirement already satisfied: tblib>=1.6.0 in /usr/local/lib/python3.8/site-packages (from distributed==2022.11.1->dask-cudf-cu11->cuml-cu11) (1.7.0)\n",
            "Collecting dask-cuda==22.12\n",
            "  Downloading dask_cuda-22.12.0-py3-none-any.whl (121 kB)\n",
            "\u001b[2K     \u001b[90m━━━━━━━━━━━━━━━━━━━━━━━━━━━━━━━━━━━━━━━\u001b[0m \u001b[32m121.1/121.1 kB\u001b[0m \u001b[31m5.8 MB/s\u001b[0m eta \u001b[36m0:00:00\u001b[0m\n",
            "\u001b[?25hCollecting joblib>=0.11\n",
            "  Downloading joblib-1.2.0-py3-none-any.whl (297 kB)\n",
            "\u001b[2K     \u001b[90m━━━━━━━━━━━━━━━━━━━━━━━━━━━━━━━━━━━━━━━\u001b[0m \u001b[32m298.0/298.0 kB\u001b[0m \u001b[31m8.0 MB/s\u001b[0m eta \u001b[36m0:00:00\u001b[0m\n",
            "\u001b[?25hCollecting ucx-py-cu11\n",
            "  Downloading https://developer.download.nvidia.com/compute/redist/ucx-py-cu11/ucx_py_cu11-0.29.0-cp38-cp38-manylinux_2_17_x86_64.manylinux2014_x86_64.whl (8.3 MB)\n",
            "\u001b[2K     \u001b[90m━━━━━━━━━━━━━━━━━━━━━━━━━━━━━━━━━━━━━━━━\u001b[0m \u001b[32m8.3/8.3 MB\u001b[0m \u001b[31m29.9 MB/s\u001b[0m eta \u001b[36m0:00:00\u001b[0m\n",
            "\u001b[?25hCollecting pynvml>=11.0.0\n",
            "  Downloading pynvml-11.4.1-py3-none-any.whl (46 kB)\n",
            "\u001b[2K     \u001b[90m━━━━━━━━━━━━━━━━━━━━━━━━━━━━━━━━━━━━━━━━\u001b[0m \u001b[32m47.0/47.0 kB\u001b[0m \u001b[31m6.2 MB/s\u001b[0m eta \u001b[36m0:00:00\u001b[0m\n",
            "\u001b[?25hCollecting matplotlib!=3.6.1,>=3.1\n",
            "  Downloading matplotlib-3.6.2-cp38-cp38-manylinux_2_12_x86_64.manylinux2010_x86_64.whl (9.4 MB)\n",
            "\u001b[2K     \u001b[90m━━━━━━━━━━━━━━━━━━━━━━━━━━━━━━━━━━━━━━━━\u001b[0m \u001b[32m9.4/9.4 MB\u001b[0m \u001b[31m32.0 MB/s\u001b[0m eta \u001b[36m0:00:00\u001b[0m\n",
            "\u001b[?25hRequirement already satisfied: cython in /usr/local/lib/python3.8/site-packages (from cuda-python<12.0,>=11.7.1->cudf-cu11->cuml-cu11) (0.29.32)\n",
            "Collecting pillow>=6.2.0\n",
            "  Downloading Pillow-9.3.0-cp38-cp38-manylinux_2_17_x86_64.manylinux2014_x86_64.whl (3.2 MB)\n",
            "\u001b[2K     \u001b[90m━━━━━━━━━━━━━━━━━━━━━━━━━━━━━━━━━━━━━━━━\u001b[0m \u001b[32m3.2/3.2 MB\u001b[0m \u001b[31m52.0 MB/s\u001b[0m eta \u001b[36m0:00:00\u001b[0m\n",
            "\u001b[?25hCollecting cycler>=0.10\n",
            "  Downloading cycler-0.11.0-py3-none-any.whl (6.4 kB)\n",
            "Collecting pyparsing>=2.2.1\n",
            "  Downloading pyparsing-3.0.9-py3-none-any.whl (98 kB)\n",
            "\u001b[2K     \u001b[90m━━━━━━━━━━━━━━━━━━━━━━━━━━━━━━━━━━━━━━━━\u001b[0m \u001b[32m98.3/98.3 kB\u001b[0m \u001b[31m13.4 MB/s\u001b[0m eta \u001b[36m0:00:00\u001b[0m\n",
            "\u001b[?25hRequirement already satisfied: python-dateutil>=2.7 in /usr/local/lib/python3.8/site-packages (from matplotlib!=3.6.1,>=3.1->seaborn->cuml-cu11) (2.8.2)\n",
            "Collecting kiwisolver>=1.0.1\n",
            "  Downloading kiwisolver-1.4.4-cp38-cp38-manylinux_2_5_x86_64.manylinux1_x86_64.whl (1.2 MB)\n",
            "\u001b[2K     \u001b[90m━━━━━━━━━━━━━━━━━━━━━━━━━━━━━━━━━━━━━━━━\u001b[0m \u001b[32m1.2/1.2 MB\u001b[0m \u001b[31m31.0 MB/s\u001b[0m eta \u001b[36m0:00:00\u001b[0m\n",
            "\u001b[?25hCollecting fonttools>=4.22.0\n",
            "  Downloading fonttools-4.38.0-py3-none-any.whl (965 kB)\n",
            "\u001b[2K     \u001b[90m━━━━━━━━━━━━━━━━━━━━━━━━━━━━━━━━━━━━━━\u001b[0m \u001b[32m965.4/965.4 kB\u001b[0m \u001b[31m27.3 MB/s\u001b[0m eta \u001b[36m0:00:00\u001b[0m\n",
            "\u001b[?25hCollecting contourpy>=1.0.1\n",
            "  Downloading contourpy-1.0.6-cp38-cp38-manylinux_2_17_x86_64.manylinux2014_x86_64.whl (295 kB)\n",
            "\u001b[2K     \u001b[90m━━━━━━━━━━━━━━━━━━━━━━━━━━━━━━━━━━━━━━\u001b[0m \u001b[32m296.0/296.0 kB\u001b[0m \u001b[31m15.0 MB/s\u001b[0m eta \u001b[36m0:00:00\u001b[0m\n",
            "\u001b[?25hRequirement already satisfied: pytz>=2020.1 in /usr/local/lib/python3.8/site-packages (from pandas<1.6.0dev0,>=1.0->cudf-cu11->cuml-cu11) (2022.6)\n",
            "Requirement already satisfied: fastrlock>=0.5 in /usr/local/lib/python3.8/site-packages (from cupy-cuda11x->cudf-cu11->cuml-cu11) (0.8.1)\n",
            "Requirement already satisfied: zipp>=0.5 in /usr/local/lib/python3.8/site-packages (from importlib-metadata->numba->cuml-cu11) (3.11.0)\n",
            "Requirement already satisfied: six>=1.5 in /usr/local/lib/python3.8/site-packages (from python-dateutil>=2.7->matplotlib!=3.6.1,>=3.1->seaborn->cuml-cu11) (1.16.0)\n",
            "Requirement already satisfied: heapdict in /usr/local/lib/python3.8/site-packages (from zict>=0.1.3->distributed==2022.11.1->dask-cudf-cu11->cuml-cu11) (1.0.1)\n",
            "Requirement already satisfied: MarkupSafe>=2.0 in /usr/local/lib/python3.8/site-packages (from jinja2->distributed==2022.11.1->dask-cudf-cu11->cuml-cu11) (2.1.1)\n",
            "Installing collected packages: scipy, pyparsing, pynvml, pillow, kiwisolver, joblib, fonttools, cycler, contourpy, ucx-py-cu11, treelite-runtime, treelite, matplotlib, seaborn, pylibraft-cu11, dask-cuda, raft-dask-cu11, cuml-cu11\n",
            "Successfully installed contourpy-1.0.6 cuml-cu11-22.12.0 cycler-0.11.0 dask-cuda-22.12.0 fonttools-4.38.0 joblib-1.2.0 kiwisolver-1.4.4 matplotlib-3.6.2 pillow-9.3.0 pylibraft-cu11-22.12.0 pynvml-11.4.1 pyparsing-3.0.9 raft-dask-cu11-22.12.0.post1 scipy-1.9.3 seaborn-0.12.1 treelite-3.0.1 treelite-runtime-3.0.1 ucx-py-cu11-0.29.0\n",
            "\u001b[33mWARNING: Running pip as the 'root' user can result in broken permissions and conflicting behaviour with the system package manager. It is recommended to use a virtual environment instead: https://pip.pypa.io/warnings/venv\u001b[0m\u001b[33m\n",
            "\u001b[0m"
          ]
        },
        {
          "output_type": "display_data",
          "data": {
            "application/vnd.colab-display-data+json": {
              "pip_warning": {
                "packages": [
                  "cycler",
                  "kiwisolver"
                ]
              }
            }
          },
          "metadata": {}
        },
        {
          "output_type": "stream",
          "name": "stdout",
          "text": [
            "Looking in indexes: https://pypi.org/simple, https://us-python.pkg.dev/colab-wheels/public/simple/, https://pypi.ngc.nvidia.com\n",
            "Collecting cugraph-cu11\n",
            "  Downloading https://developer.download.nvidia.com/compute/redist/cugraph-cu11/cugraph_cu11-22.12.0-cp38-cp38-manylinux_2_17_x86_64.manylinux2014_x86_64.whl (1028.4 MB)\n",
            "\u001b[2K     \u001b[91m━━━━━━━━━━━━━━━━━━━━━━━━━━━━━━━━━━━━━━━\u001b[0m\u001b[91m╸\u001b[0m \u001b[32m1.0/1.0 GB\u001b[0m \u001b[31m29.5 MB/s\u001b[0m eta \u001b[36m0:00:01\u001b[0mtcmalloc: large alloc 1285545984 bytes == 0x558094964000 @  0x7f13f25cb615 0x558054412a57 0x55805447b30b 0x55805447b1c3 0x5580543f4b83 0x5580543d6c85 0x5580543d5351 0x5580543e726c 0x5580543d6c85 0x5580543d5351 0x5580543e726c 0x5580543d6c85 0x5580543d5351 0x5580543e726c 0x5580543d6c85 0x5580543d5351 0x5580543e726c 0x5580543d6c85 0x5580543d5351 0x5580543e726c 0x5580543d6c85 0x5580543e71d6 0x5580543d6c85 0x5580543d5351 0x5580543e726c 0x5580543d76fa 0x5580543d5351 0x5580543e726c 0x5580543d6c85 0x5580543d5351 0x5580543e726c\n",
            "\u001b[2K     \u001b[90m━━━━━━━━━━━━━━━━━━━━━━━━━━━━━━━━━━━━━━━━\u001b[0m \u001b[32m1.0/1.0 GB\u001b[0m \u001b[31m1.5 MB/s\u001b[0m eta \u001b[36m0:00:00\u001b[0m\n",
            "\u001b[?25hRequirement already satisfied: numba in /usr/local/lib/python3.8/site-packages (from cugraph-cu11) (0.56.4)\n",
            "Requirement already satisfied: raft-dask-cu11 in /usr/local/lib/python3.8/site-packages (from cugraph-cu11) (22.12.0.post1)\n",
            "Requirement already satisfied: rmm-cu11 in /usr/local/lib/python3.8/site-packages (from cugraph-cu11) (22.12.0)\n",
            "Requirement already satisfied: cudf-cu11 in /usr/local/lib/python3.8/site-packages (from cugraph-cu11) (22.12.0)\n",
            "Requirement already satisfied: dask-cuda in /usr/local/lib/python3.8/site-packages (from cugraph-cu11) (22.12.0)\n",
            "Requirement already satisfied: cupy-cuda11x in /usr/local/lib/python3.8/site-packages (from cugraph-cu11) (11.4.0)\n",
            "Requirement already satisfied: dask-cudf-cu11 in /usr/local/lib/python3.8/site-packages (from cugraph-cu11) (22.12.0.post1)\n",
            "Collecting pylibcugraph-cu11\n",
            "  Downloading https://developer.download.nvidia.com/compute/redist/pylibcugraph-cu11/pylibcugraph_cu11-22.12.0-cp38-cp38-manylinux_2_17_x86_64.manylinux2014_x86_64.whl (1627.2 MB)\n",
            "\u001b[2K     \u001b[91m━━━━━━━━━━━━━━━━━━━━━━━━━━━━━━━━━━━━━━━\u001b[0m\u001b[91m╸\u001b[0m \u001b[32m1.6/1.6 GB\u001b[0m \u001b[31m33.5 MB/s\u001b[0m eta \u001b[36m0:00:01\u001b[0mtcmalloc: large alloc 1627185152 bytes == 0x5580574c6000 @  0x7f13f25ca1e7 0x5580543bff72 0x5580543ced5e 0x558054412a57 0x55805447b30b 0x55805447b1c3 0x5580543f4b83 0x5580543d6c85 0x5580543d5351 0x5580543e726c 0x5580543d6c85 0x5580543d5351 0x5580543e726c 0x5580543d6c85 0x5580543d5351 0x5580543e726c 0x5580543d6c85 0x5580543d5351 0x5580543e726c 0x5580543d6c85 0x5580543d5351 0x5580543e726c 0x5580543d6c85 0x5580543e71d6 0x5580543d6c85 0x5580543d5351 0x5580543e726c 0x5580543d76fa 0x5580543d5351 0x5580543e726c 0x5580543d6c85\n",
            "tcmalloc: large alloc 2033983488 bytes == 0x5580b8494000 @  0x7f13f25cb615 0x558054412a57 0x55805447b30b 0x55805447b1c3 0x5580543f4b83 0x5580543d6c85 0x5580543d5351 0x5580543e726c 0x5580543d6c85 0x5580543d5351 0x5580543e726c 0x5580543d6c85 0x5580543d5351 0x5580543e726c 0x5580543d6c85 0x5580543d5351 0x5580543e726c 0x5580543d6c85 0x5580543d5351 0x5580543e726c 0x5580543d6c85 0x5580543e71d6 0x5580543d6c85 0x5580543d5351 0x5580543e726c 0x5580543d76fa 0x5580543d5351 0x5580543e726c 0x5580543d6c85 0x5580543d5351 0x5580543e726c\n",
            "\u001b[2K     \u001b[91m━━━━━━━━━━━━━━━━━━━━━━━━━━━━━━━━━━━━━━━\u001b[0m\u001b[91m╸\u001b[0m \u001b[32m1.6/1.6 GB\u001b[0m \u001b[31m33.4 MB/s\u001b[0m eta \u001b[36m0:00:01\u001b[0mtcmalloc: large alloc 1627185152 bytes == 0x5580574c6000 @  0x7f13f25ca1e7 0x5580543d36cb 0x5580544bf593 0x5580543f4b83 0x5580543d6c85 0x5580543d5351 0x5580543e726c 0x5580543d6c85 0x5580543d5351 0x5580543e726c 0x5580543d6c85 0x5580543d5351 0x5580543e726c 0x5580543f695b 0x5580543dec80 0x5580544b8459 0x5580543df541 0x5580543db374 0x5580543f6696 0x5580543dae80 0x5580543d5351 0x5580543f677c 0x5580543dae80 0x5580543e71d6 0x5580543d6c85 0x5580543d5351 0x5580543f677c 0x5580543d76fa 0x5580543feaf8 0x5580543d6f51 0x5580543feaf8\n",
            "\u001b[2K     \u001b[90m━━━━━━━━━━━━━━━━━━━━━━━━━━━━━━━━━━━━━━━━\u001b[0m \u001b[32m1.6/1.6 GB\u001b[0m \u001b[31m991.7 kB/s\u001b[0m eta \u001b[36m0:00:00\u001b[0m\n",
            "\u001b[?25hRequirement already satisfied: typing-extensions in /usr/local/lib/python3.8/site-packages (from cudf-cu11->cugraph-cu11) (4.4.0)\n",
            "Requirement already satisfied: ptxcompiler-cu11 in /usr/local/lib/python3.8/site-packages (from cudf-cu11->cugraph-cu11) (0.7.0.post1)\n",
            "Requirement already satisfied: cubinlinker-cu11 in /usr/local/lib/python3.8/site-packages (from cudf-cu11->cugraph-cu11) (0.3.0.post1)\n",
            "Requirement already satisfied: fsspec>=0.6.0 in /usr/local/lib/python3.8/site-packages (from cudf-cu11->cugraph-cu11) (2022.11.0)\n",
            "Requirement already satisfied: pyarrow==9.0.0 in /usr/local/lib/python3.8/site-packages (from cudf-cu11->cugraph-cu11) (9.0.0)\n",
            "Requirement already satisfied: protobuf<3.21.0a0,>=3.20.1 in /usr/local/lib/python3.8/site-packages (from cudf-cu11->cugraph-cu11) (3.20.3)\n",
            "Requirement already satisfied: nvtx>=0.2.1 in /usr/local/lib/python3.8/site-packages (from cudf-cu11->cugraph-cu11) (0.2.5)\n",
            "Requirement already satisfied: cuda-python<12.0,>=11.7.1 in /usr/local/lib/python3.8/site-packages (from cudf-cu11->cugraph-cu11) (11.8.1)\n",
            "Requirement already satisfied: pandas<1.6.0dev0,>=1.0 in /usr/local/lib/python3.8/site-packages (from cudf-cu11->cugraph-cu11) (1.5.2)\n",
            "Requirement already satisfied: numpy in /usr/local/lib/python3.8/site-packages (from cudf-cu11->cugraph-cu11) (1.23.5)\n",
            "Requirement already satisfied: cachetools in /usr/local/lib/python3.8/site-packages (from cudf-cu11->cugraph-cu11) (5.2.0)\n",
            "Requirement already satisfied: packaging in /usr/local/lib/python3.8/site-packages (from cudf-cu11->cugraph-cu11) (22.0)\n",
            "Requirement already satisfied: llvmlite<0.40,>=0.39.0dev0 in /usr/local/lib/python3.8/site-packages (from numba->cugraph-cu11) (0.39.1)\n",
            "Requirement already satisfied: setuptools in /usr/local/lib/python3.8/site-packages (from numba->cugraph-cu11) (65.5.1)\n",
            "Requirement already satisfied: importlib-metadata in /usr/local/lib/python3.8/site-packages (from numba->cugraph-cu11) (5.1.0)\n",
            "Requirement already satisfied: fastrlock>=0.5 in /usr/local/lib/python3.8/site-packages (from cupy-cuda11x->cugraph-cu11) (0.8.1)\n",
            "Requirement already satisfied: dask==2022.11.1 in /usr/local/lib/python3.8/site-packages (from dask-cuda->cugraph-cu11) (2022.11.1)\n",
            "Requirement already satisfied: zict>=0.1.3 in /usr/local/lib/python3.8/site-packages (from dask-cuda->cugraph-cu11) (2.2.0)\n",
            "Requirement already satisfied: distributed==2022.11.1 in /usr/local/lib/python3.8/site-packages (from dask-cuda->cugraph-cu11) (2022.11.1)\n",
            "Requirement already satisfied: pynvml>=11.0.0 in /usr/local/lib/python3.8/site-packages (from dask-cuda->cugraph-cu11) (11.4.1)\n",
            "Requirement already satisfied: cloudpickle>=1.1.1 in /usr/local/lib/python3.8/site-packages (from dask==2022.11.1->dask-cuda->cugraph-cu11) (2.2.0)\n",
            "Requirement already satisfied: toolz>=0.8.2 in /usr/local/lib/python3.8/site-packages (from dask==2022.11.1->dask-cuda->cugraph-cu11) (0.12.0)\n",
            "Requirement already satisfied: partd>=0.3.10 in /usr/local/lib/python3.8/site-packages (from dask==2022.11.1->dask-cuda->cugraph-cu11) (1.3.0)\n",
            "Requirement already satisfied: click>=7.0 in /usr/local/lib/python3.8/site-packages (from dask==2022.11.1->dask-cuda->cugraph-cu11) (8.1.3)\n",
            "Requirement already satisfied: pyyaml>=5.3.1 in /usr/local/lib/python3.8/site-packages (from dask==2022.11.1->dask-cuda->cugraph-cu11) (6.0)\n",
            "Requirement already satisfied: urllib3 in /usr/local/lib/python3.8/site-packages (from distributed==2022.11.1->dask-cuda->cugraph-cu11) (1.26.13)\n",
            "Requirement already satisfied: psutil>=5.0 in /usr/local/lib/python3.8/site-packages (from distributed==2022.11.1->dask-cuda->cugraph-cu11) (5.9.4)\n",
            "Requirement already satisfied: jinja2 in /usr/local/lib/python3.8/site-packages (from distributed==2022.11.1->dask-cuda->cugraph-cu11) (3.1.2)\n",
            "Requirement already satisfied: msgpack>=0.6.0 in /usr/local/lib/python3.8/site-packages (from distributed==2022.11.1->dask-cuda->cugraph-cu11) (1.0.4)\n",
            "Requirement already satisfied: locket>=1.0.0 in /usr/local/lib/python3.8/site-packages (from distributed==2022.11.1->dask-cuda->cugraph-cu11) (1.0.0)\n",
            "Requirement already satisfied: sortedcontainers!=2.0.0,!=2.0.1 in /usr/local/lib/python3.8/site-packages (from distributed==2022.11.1->dask-cuda->cugraph-cu11) (2.4.0)\n",
            "Requirement already satisfied: tblib>=1.6.0 in /usr/local/lib/python3.8/site-packages (from distributed==2022.11.1->dask-cuda->cugraph-cu11) (1.7.0)\n",
            "Requirement already satisfied: tornado<6.2,>=6.0.3 in /usr/local/lib/python3.8/site-packages (from distributed==2022.11.1->dask-cuda->cugraph-cu11) (6.1)\n",
            "Requirement already satisfied: pylibraft-cu11 in /usr/local/lib/python3.8/site-packages (from pylibcugraph-cu11->cugraph-cu11) (22.12.0)\n",
            "Requirement already satisfied: joblib>=0.11 in /usr/local/lib/python3.8/site-packages (from raft-dask-cu11->cugraph-cu11) (1.2.0)\n",
            "Requirement already satisfied: ucx-py-cu11 in /usr/local/lib/python3.8/site-packages (from raft-dask-cu11->cugraph-cu11) (0.29.0)\n",
            "Requirement already satisfied: cython in /usr/local/lib/python3.8/site-packages (from cuda-python<12.0,>=11.7.1->cudf-cu11->cugraph-cu11) (0.29.32)\n",
            "Requirement already satisfied: python-dateutil>=2.8.1 in /usr/local/lib/python3.8/site-packages (from pandas<1.6.0dev0,>=1.0->cudf-cu11->cugraph-cu11) (2.8.2)\n",
            "Requirement already satisfied: pytz>=2020.1 in /usr/local/lib/python3.8/site-packages (from pandas<1.6.0dev0,>=1.0->cudf-cu11->cugraph-cu11) (2022.6)\n",
            "Requirement already satisfied: heapdict in /usr/local/lib/python3.8/site-packages (from zict>=0.1.3->dask-cuda->cugraph-cu11) (1.0.1)\n",
            "Requirement already satisfied: zipp>=0.5 in /usr/local/lib/python3.8/site-packages (from importlib-metadata->numba->cugraph-cu11) (3.11.0)\n",
            "Requirement already satisfied: six>=1.5 in /usr/local/lib/python3.8/site-packages (from python-dateutil>=2.8.1->pandas<1.6.0dev0,>=1.0->cudf-cu11->cugraph-cu11) (1.16.0)\n",
            "Requirement already satisfied: MarkupSafe>=2.0 in /usr/local/lib/python3.8/site-packages (from jinja2->distributed==2022.11.1->dask-cuda->cugraph-cu11) (2.1.1)\n",
            "Installing collected packages: pylibcugraph-cu11, cugraph-cu11\n",
            "Successfully installed cugraph-cu11-22.12.0 pylibcugraph-cu11-22.12.0\n",
            "\u001b[33mWARNING: Running pip as the 'root' user can result in broken permissions and conflicting behaviour with the system package manager. It is recommended to use a virtual environment instead: https://pip.pypa.io/warnings/venv\u001b[0m\u001b[33m\n",
            "\u001b[0m\u001b[33mWARNING: Skipping cupy-cuda115 as it is not installed.\u001b[0m\u001b[33m\n",
            "\u001b[0m\u001b[33mWARNING: Running pip as the 'root' user can result in broken permissions and conflicting behaviour with the system package manager. It is recommended to use a virtual environment instead: https://pip.pypa.io/warnings/venv\u001b[0m\u001b[33m\n",
            "\u001b[0mLooking in indexes: https://pypi.org/simple, https://us-python.pkg.dev/colab-wheels/public/simple/\n",
            "Requirement already satisfied: cupy-cuda11x in /usr/local/lib/python3.8/site-packages (11.4.0)\n",
            "Requirement already satisfied: numpy<1.26,>=1.20 in /usr/local/lib/python3.8/site-packages (from cupy-cuda11x) (1.23.5)\n",
            "Requirement already satisfied: fastrlock>=0.5 in /usr/local/lib/python3.8/site-packages (from cupy-cuda11x) (0.8.1)\n",
            "\u001b[33mWARNING: Running pip as the 'root' user can result in broken permissions and conflicting behaviour with the system package manager. It is recommended to use a virtual environment instead: https://pip.pypa.io/warnings/venv\u001b[0m\u001b[33m\n",
            "\u001b[0m"
          ]
        }
      ]
    },
    {
      "cell_type": "code",
      "source": [
        "#Installing Autogluon\n",
        "!pip install autogluon"
      ],
      "metadata": {
        "colab": {
          "base_uri": "https://localhost:8080/"
        },
        "id": "vRkgfveFygDR",
        "outputId": "45e53ae6-62ee-4ef3-d3a4-494f1f669a4d"
      },
      "execution_count": 6,
      "outputs": [
        {
          "output_type": "stream",
          "name": "stdout",
          "text": [
            "Looking in indexes: https://pypi.org/simple, https://us-python.pkg.dev/colab-wheels/public/simple/\n",
            "Requirement already satisfied: autogluon in /usr/local/lib/python3.8/site-packages (0.6.1)\n",
            "Requirement already satisfied: autogluon.text==0.6.1 in /usr/local/lib/python3.8/site-packages (from autogluon) (0.6.1)\n",
            "Requirement already satisfied: autogluon.features==0.6.1 in /usr/local/lib/python3.8/site-packages (from autogluon) (0.6.1)\n",
            "Requirement already satisfied: autogluon.multimodal==0.6.1 in /usr/local/lib/python3.8/site-packages (from autogluon) (0.6.1)\n",
            "Requirement already satisfied: autogluon.timeseries[all]==0.6.1 in /usr/local/lib/python3.8/site-packages (from autogluon) (0.6.1)\n",
            "Requirement already satisfied: autogluon.vision==0.6.1 in /usr/local/lib/python3.8/site-packages (from autogluon) (0.6.1)\n",
            "Requirement already satisfied: autogluon.tabular[all]==0.6.1 in /usr/local/lib/python3.8/site-packages (from autogluon) (0.6.1)\n",
            "Requirement already satisfied: autogluon.core[all]==0.6.1 in /usr/local/lib/python3.8/site-packages (from autogluon) (0.6.1)\n",
            "Requirement already satisfied: numpy<1.24,>=1.21 in /usr/local/lib/python3.8/site-packages (from autogluon.core[all]==0.6.1->autogluon) (1.22.4)\n",
            "Requirement already satisfied: scikit-learn<1.2,>=1.0.0 in /usr/local/lib/python3.8/site-packages (from autogluon.core[all]==0.6.1->autogluon) (1.1.3)\n",
            "Requirement already satisfied: scipy<1.10.0,>=1.5.4 in /usr/local/lib/python3.8/site-packages (from autogluon.core[all]==0.6.1->autogluon) (1.8.1)\n",
            "Requirement already satisfied: pandas!=1.4.0,<1.6,>=1.2.5 in /usr/local/lib/python3.8/site-packages (from autogluon.core[all]==0.6.1->autogluon) (1.5.2)\n",
            "Requirement already satisfied: autogluon.common==0.6.1 in /usr/local/lib/python3.8/site-packages (from autogluon.core[all]==0.6.1->autogluon) (0.6.1)\n",
            "Requirement already satisfied: boto3 in /usr/local/lib/python3.8/site-packages (from autogluon.core[all]==0.6.1->autogluon) (1.26.28)\n",
            "Requirement already satisfied: requests in /usr/local/lib/python3.8/site-packages (from autogluon.core[all]==0.6.1->autogluon) (2.28.1)\n",
            "Requirement already satisfied: tqdm>=4.38.0 in /usr/local/lib/python3.8/site-packages (from autogluon.core[all]==0.6.1->autogluon) (4.64.1)\n",
            "Requirement already satisfied: dask<=2021.11.2,>=2021.09.1 in /usr/local/lib/python3.8/site-packages (from autogluon.core[all]==0.6.1->autogluon) (2021.11.2)\n",
            "Requirement already satisfied: matplotlib in /usr/local/lib/python3.8/site-packages (from autogluon.core[all]==0.6.1->autogluon) (3.6.2)\n",
            "Requirement already satisfied: distributed<=2021.11.2,>=2021.09.1 in /usr/local/lib/python3.8/site-packages (from autogluon.core[all]==0.6.1->autogluon) (2021.11.2)\n",
            "Requirement already satisfied: ray[tune]<2.1,>=2.0 in /usr/local/lib/python3.8/site-packages (from autogluon.core[all]==0.6.1->autogluon) (2.0.1)\n",
            "Requirement already satisfied: hyperopt<0.2.8,>=0.2.7 in /usr/local/lib/python3.8/site-packages (from autogluon.core[all]==0.6.1->autogluon) (0.2.7)\n",
            "Requirement already satisfied: psutil<6,>=5.7.3 in /usr/local/lib/python3.8/site-packages (from autogluon.features==0.6.1->autogluon) (5.8.0)\n",
            "Requirement already satisfied: timm<0.7.0 in /usr/local/lib/python3.8/site-packages (from autogluon.multimodal==0.6.1->autogluon) (0.6.12)\n",
            "Requirement already satisfied: nlpaug<=1.1.10,>=1.1.10 in /usr/local/lib/python3.8/site-packages (from autogluon.multimodal==0.6.1->autogluon) (1.1.10)\n",
            "Requirement already satisfied: text-unidecode<=1.3 in /usr/local/lib/python3.8/site-packages (from autogluon.multimodal==0.6.1->autogluon) (1.3)\n",
            "Requirement already satisfied: albumentations<=1.2.0,>=1.1.0 in /usr/local/lib/python3.8/site-packages (from autogluon.multimodal==0.6.1->autogluon) (1.1.0)\n",
            "Requirement already satisfied: defusedxml<=0.7.1,>=0.7.1 in /usr/local/lib/python3.8/site-packages (from autogluon.multimodal==0.6.1->autogluon) (0.7.1)\n",
            "Requirement already satisfied: nltk<4.0.0,>=3.4.5 in /usr/local/lib/python3.8/site-packages (from autogluon.multimodal==0.6.1->autogluon) (3.8)\n",
            "Requirement already satisfied: smart-open<5.3.0,>=5.2.1 in /usr/local/lib/python3.8/site-packages (from autogluon.multimodal==0.6.1->autogluon) (5.2.1)\n",
            "Requirement already satisfied: openmim<=0.2.1,>0.1.5 in /usr/local/lib/python3.8/site-packages (from autogluon.multimodal==0.6.1->autogluon) (0.2.1)\n",
            "Requirement already satisfied: fairscale<=0.4.6,>=0.4.5 in /usr/local/lib/python3.8/site-packages (from autogluon.multimodal==0.6.1->autogluon) (0.4.6)\n",
            "Requirement already satisfied: Pillow<=9.4.0,>=9.3.0 in /usr/local/lib/python3.8/site-packages (from autogluon.multimodal==0.6.1->autogluon) (9.3.0)\n",
            "Requirement already satisfied: jsonschema<=4.8.0 in /usr/local/lib/python3.8/site-packages (from autogluon.multimodal==0.6.1->autogluon) (4.8.0)\n",
            "Requirement already satisfied: transformers<4.24.0,>=4.23.0 in /usr/local/lib/python3.8/site-packages (from autogluon.multimodal==0.6.1->autogluon) (4.23.1)\n",
            "Requirement already satisfied: sentencepiece<0.2.0,>=0.1.95 in /usr/local/lib/python3.8/site-packages (from autogluon.multimodal==0.6.1->autogluon) (0.1.97)\n",
            "Requirement already satisfied: nptyping<1.5.0,>=1.4.4 in /usr/local/lib/python3.8/site-packages (from autogluon.multimodal==0.6.1->autogluon) (1.4.4)\n",
            "Requirement already satisfied: torchtext<0.14.0 in /usr/local/lib/python3.8/site-packages (from autogluon.multimodal==0.6.1->autogluon) (0.13.1)\n",
            "Requirement already satisfied: evaluate<=0.3.0 in /usr/local/lib/python3.8/site-packages (from autogluon.multimodal==0.6.1->autogluon) (0.3.0)\n",
            "Requirement already satisfied: pytorch-lightning<1.8.0,>=1.7.4 in /usr/local/lib/python3.8/site-packages (from autogluon.multimodal==0.6.1->autogluon) (1.7.7)\n",
            "Requirement already satisfied: torch<1.13,>=1.9 in /usr/local/lib/python3.8/site-packages (from autogluon.multimodal==0.6.1->autogluon) (1.12.1)\n",
            "Requirement already satisfied: pytorch-metric-learning<1.4.0,>=1.3.0 in /usr/local/lib/python3.8/site-packages (from autogluon.multimodal==0.6.1->autogluon) (1.3.2)\n",
            "Requirement already satisfied: scikit-image<0.20.0,>=0.19.1 in /usr/local/lib/python3.8/site-packages (from autogluon.multimodal==0.6.1->autogluon) (0.19.3)\n",
            "Requirement already satisfied: accelerate<0.14,>=0.9 in /usr/local/lib/python3.8/site-packages (from autogluon.multimodal==0.6.1->autogluon) (0.13.2)\n",
            "Requirement already satisfied: torchmetrics<0.9.0,>=0.8.0 in /usr/local/lib/python3.8/site-packages (from autogluon.multimodal==0.6.1->autogluon) (0.8.2)\n",
            "Requirement already satisfied: seqeval<=1.2.2 in /usr/local/lib/python3.8/site-packages (from autogluon.multimodal==0.6.1->autogluon) (1.2.2)\n",
            "Requirement already satisfied: torchvision<0.14.0 in /usr/local/lib/python3.8/site-packages (from autogluon.multimodal==0.6.1->autogluon) (0.13.1)\n",
            "Requirement already satisfied: omegaconf<2.2.0,>=2.1.1 in /usr/local/lib/python3.8/site-packages (from autogluon.multimodal==0.6.1->autogluon) (2.1.2)\n",
            "Requirement already satisfied: networkx<3.0,>=2.3 in /usr/local/lib/python3.8/site-packages (from autogluon.tabular[all]==0.6.1->autogluon) (2.8.8)\n",
            "Requirement already satisfied: fastai<2.8,>=2.3.1 in /usr/local/lib/python3.8/site-packages (from autogluon.tabular[all]==0.6.1->autogluon) (2.7.10)\n",
            "Requirement already satisfied: catboost<1.2,>=1.0 in /usr/local/lib/python3.8/site-packages (from autogluon.tabular[all]==0.6.1->autogluon) (1.1.1)\n",
            "Requirement already satisfied: xgboost<1.8,>=1.6 in /usr/local/lib/python3.8/site-packages (from autogluon.tabular[all]==0.6.1->autogluon) (1.7.2)\n",
            "Requirement already satisfied: lightgbm<3.4,>=3.3 in /usr/local/lib/python3.8/site-packages (from autogluon.tabular[all]==0.6.1->autogluon) (3.3.3)\n",
            "Requirement already satisfied: statsmodels~=0.13.0 in /usr/local/lib/python3.8/site-packages (from autogluon.timeseries[all]==0.6.1->autogluon) (0.13.5)\n",
            "Requirement already satisfied: gluonts~=0.11.0 in /usr/local/lib/python3.8/site-packages (from autogluon.timeseries[all]==0.6.1->autogluon) (0.11.4)\n",
            "Requirement already satisfied: joblib~=1.1 in /usr/local/lib/python3.8/site-packages (from autogluon.timeseries[all]==0.6.1->autogluon) (1.2.0)\n",
            "Requirement already satisfied: tbats~=1.1 in /usr/local/lib/python3.8/site-packages (from autogluon.timeseries[all]==0.6.1->autogluon) (1.1.2)\n",
            "Requirement already satisfied: sktime<0.14,>=0.13.1 in /usr/local/lib/python3.8/site-packages (from autogluon.timeseries[all]==0.6.1->autogluon) (0.13.4)\n",
            "Requirement already satisfied: pmdarima~=1.8.2 in /usr/local/lib/python3.8/site-packages (from autogluon.timeseries[all]==0.6.1->autogluon) (1.8.5)\n",
            "Requirement already satisfied: gluoncv<0.10.6,>=0.10.5 in /usr/local/lib/python3.8/site-packages (from autogluon.vision==0.6.1->autogluon) (0.10.5.post0)\n",
            "Requirement already satisfied: setuptools in /usr/local/lib/python3.8/site-packages (from autogluon.common==0.6.1->autogluon.core[all]==0.6.1->autogluon) (65.6.3)\n",
            "Requirement already satisfied: pyyaml in /usr/local/lib/python3.8/site-packages (from accelerate<0.14,>=0.9->autogluon.multimodal==0.6.1->autogluon) (6.0)\n",
            "Requirement already satisfied: packaging>=20.0 in /usr/local/lib/python3.8/site-packages (from accelerate<0.14,>=0.9->autogluon.multimodal==0.6.1->autogluon) (22.0)\n",
            "Requirement already satisfied: qudida>=0.0.4 in /usr/local/lib/python3.8/site-packages (from albumentations<=1.2.0,>=1.1.0->autogluon.multimodal==0.6.1->autogluon) (0.0.4)\n",
            "Requirement already satisfied: opencv-python-headless>=4.1.1 in /usr/local/lib/python3.8/site-packages (from albumentations<=1.2.0,>=1.1.0->autogluon.multimodal==0.6.1->autogluon) (4.6.0.66)\n",
            "Requirement already satisfied: graphviz in /usr/local/lib/python3.8/site-packages (from catboost<1.2,>=1.0->autogluon.tabular[all]==0.6.1->autogluon) (0.20.1)\n",
            "Requirement already satisfied: plotly in /usr/local/lib/python3.8/site-packages (from catboost<1.2,>=1.0->autogluon.tabular[all]==0.6.1->autogluon) (5.11.0)\n",
            "Requirement already satisfied: six in /usr/local/lib/python3.8/site-packages (from catboost<1.2,>=1.0->autogluon.tabular[all]==0.6.1->autogluon) (1.16.0)\n",
            "Requirement already satisfied: cloudpickle>=1.1.1 in /usr/local/lib/python3.8/site-packages (from dask<=2021.11.2,>=2021.09.1->autogluon.core[all]==0.6.1->autogluon) (2.2.0)\n",
            "Requirement already satisfied: partd>=0.3.10 in /usr/local/lib/python3.8/site-packages (from dask<=2021.11.2,>=2021.09.1->autogluon.core[all]==0.6.1->autogluon) (1.3.0)\n",
            "Requirement already satisfied: toolz>=0.8.2 in /usr/local/lib/python3.8/site-packages (from dask<=2021.11.2,>=2021.09.1->autogluon.core[all]==0.6.1->autogluon) (0.12.0)\n",
            "Requirement already satisfied: fsspec>=0.6.0 in /usr/local/lib/python3.8/site-packages (from dask<=2021.11.2,>=2021.09.1->autogluon.core[all]==0.6.1->autogluon) (2022.11.0)\n",
            "Requirement already satisfied: tblib>=1.6.0 in /usr/local/lib/python3.8/site-packages (from distributed<=2021.11.2,>=2021.09.1->autogluon.core[all]==0.6.1->autogluon) (1.7.0)\n",
            "Requirement already satisfied: click>=6.6 in /usr/local/lib/python3.8/site-packages (from distributed<=2021.11.2,>=2021.09.1->autogluon.core[all]==0.6.1->autogluon) (8.0.4)\n",
            "Requirement already satisfied: zict>=0.1.3 in /usr/local/lib/python3.8/site-packages (from distributed<=2021.11.2,>=2021.09.1->autogluon.core[all]==0.6.1->autogluon) (2.2.0)\n",
            "Requirement already satisfied: sortedcontainers!=2.0.0,!=2.0.1 in /usr/local/lib/python3.8/site-packages (from distributed<=2021.11.2,>=2021.09.1->autogluon.core[all]==0.6.1->autogluon) (2.4.0)\n",
            "Requirement already satisfied: tornado>=6.0.3 in /usr/local/lib/python3.8/site-packages (from distributed<=2021.11.2,>=2021.09.1->autogluon.core[all]==0.6.1->autogluon) (6.1)\n",
            "Requirement already satisfied: jinja2 in /usr/local/lib/python3.8/site-packages (from distributed<=2021.11.2,>=2021.09.1->autogluon.core[all]==0.6.1->autogluon) (3.1.2)\n",
            "Requirement already satisfied: msgpack>=0.6.0 in /usr/local/lib/python3.8/site-packages (from distributed<=2021.11.2,>=2021.09.1->autogluon.core[all]==0.6.1->autogluon) (1.0.4)\n",
            "Requirement already satisfied: datasets>=2.0.0 in /usr/local/lib/python3.8/site-packages (from evaluate<=0.3.0->autogluon.multimodal==0.6.1->autogluon) (2.7.1)\n",
            "Requirement already satisfied: dill in /usr/local/lib/python3.8/site-packages (from evaluate<=0.3.0->autogluon.multimodal==0.6.1->autogluon) (0.3.6)\n",
            "Requirement already satisfied: multiprocess in /usr/local/lib/python3.8/site-packages (from evaluate<=0.3.0->autogluon.multimodal==0.6.1->autogluon) (0.70.14)\n",
            "Requirement already satisfied: responses<0.19 in /usr/local/lib/python3.8/site-packages (from evaluate<=0.3.0->autogluon.multimodal==0.6.1->autogluon) (0.18.0)\n",
            "Requirement already satisfied: huggingface-hub>=0.7.0 in /usr/local/lib/python3.8/site-packages (from evaluate<=0.3.0->autogluon.multimodal==0.6.1->autogluon) (0.11.1)\n",
            "Requirement already satisfied: xxhash in /usr/local/lib/python3.8/site-packages (from evaluate<=0.3.0->autogluon.multimodal==0.6.1->autogluon) (3.1.0)\n",
            "Requirement already satisfied: pip in /usr/local/lib/python3.8/site-packages (from fastai<2.8,>=2.3.1->autogluon.tabular[all]==0.6.1->autogluon) (22.3.1)\n",
            "Requirement already satisfied: spacy<4 in /usr/local/lib/python3.8/site-packages (from fastai<2.8,>=2.3.1->autogluon.tabular[all]==0.6.1->autogluon) (3.4.3)\n",
            "Requirement already satisfied: fastdownload<2,>=0.0.5 in /usr/local/lib/python3.8/site-packages (from fastai<2.8,>=2.3.1->autogluon.tabular[all]==0.6.1->autogluon) (0.0.7)\n",
            "Requirement already satisfied: fastcore<1.6,>=1.4.5 in /usr/local/lib/python3.8/site-packages (from fastai<2.8,>=2.3.1->autogluon.tabular[all]==0.6.1->autogluon) (1.5.27)\n",
            "Requirement already satisfied: fastprogress>=0.2.4 in /usr/local/lib/python3.8/site-packages (from fastai<2.8,>=2.3.1->autogluon.tabular[all]==0.6.1->autogluon) (1.0.3)\n",
            "Requirement already satisfied: portalocker in /usr/local/lib/python3.8/site-packages (from gluoncv<0.10.6,>=0.10.5->autogluon.vision==0.6.1->autogluon) (2.6.0)\n",
            "Requirement already satisfied: opencv-python in /usr/local/lib/python3.8/site-packages (from gluoncv<0.10.6,>=0.10.5->autogluon.vision==0.6.1->autogluon) (4.6.0.66)\n",
            "Requirement already satisfied: yacs in /usr/local/lib/python3.8/site-packages (from gluoncv<0.10.6,>=0.10.5->autogluon.vision==0.6.1->autogluon) (0.1.8)\n",
            "Requirement already satisfied: autocfg in /usr/local/lib/python3.8/site-packages (from gluoncv<0.10.6,>=0.10.5->autogluon.vision==0.6.1->autogluon) (0.0.8)\n",
            "Requirement already satisfied: pydantic~=1.7 in /usr/local/lib/python3.8/site-packages (from gluonts~=0.11.0->autogluon.timeseries[all]==0.6.1->autogluon) (1.10.2)\n",
            "Requirement already satisfied: typing-extensions~=4.0 in /usr/local/lib/python3.8/site-packages (from gluonts~=0.11.0->autogluon.timeseries[all]==0.6.1->autogluon) (4.4.0)\n",
            "Requirement already satisfied: future in /usr/local/lib/python3.8/site-packages (from hyperopt<0.2.8,>=0.2.7->autogluon.core[all]==0.6.1->autogluon) (0.18.2)\n",
            "Requirement already satisfied: py4j in /usr/local/lib/python3.8/site-packages (from hyperopt<0.2.8,>=0.2.7->autogluon.core[all]==0.6.1->autogluon) (0.10.9.7)\n",
            "Requirement already satisfied: attrs>=17.4.0 in /usr/local/lib/python3.8/site-packages (from jsonschema<=4.8.0->autogluon.multimodal==0.6.1->autogluon) (22.1.0)\n",
            "Requirement already satisfied: importlib-resources>=1.4.0 in /usr/local/lib/python3.8/site-packages (from jsonschema<=4.8.0->autogluon.multimodal==0.6.1->autogluon) (5.10.1)\n",
            "Requirement already satisfied: pyrsistent!=0.17.0,!=0.17.1,!=0.17.2,>=0.14.0 in /usr/local/lib/python3.8/site-packages (from jsonschema<=4.8.0->autogluon.multimodal==0.6.1->autogluon) (0.19.2)\n",
            "Requirement already satisfied: wheel in /usr/local/lib/python3.8/site-packages (from lightgbm<3.4,>=3.3->autogluon.tabular[all]==0.6.1->autogluon) (0.38.4)\n",
            "Requirement already satisfied: regex>=2021.8.3 in /usr/local/lib/python3.8/site-packages (from nltk<4.0.0,>=3.4.5->autogluon.multimodal==0.6.1->autogluon) (2022.10.31)\n",
            "Requirement already satisfied: typish>=1.7.0 in /usr/local/lib/python3.8/site-packages (from nptyping<1.5.0,>=1.4.4->autogluon.multimodal==0.6.1->autogluon) (1.9.3)\n",
            "Requirement already satisfied: antlr4-python3-runtime==4.8 in /usr/local/lib/python3.8/site-packages (from omegaconf<2.2.0,>=2.1.1->autogluon.multimodal==0.6.1->autogluon) (4.8)\n",
            "Requirement already satisfied: colorama in /usr/local/lib/python3.8/site-packages (from openmim<=0.2.1,>0.1.5->autogluon.multimodal==0.6.1->autogluon) (0.4.6)\n",
            "Requirement already satisfied: tabulate in /usr/local/lib/python3.8/site-packages (from openmim<=0.2.1,>0.1.5->autogluon.multimodal==0.6.1->autogluon) (0.9.0)\n",
            "Requirement already satisfied: rich in /usr/local/lib/python3.8/site-packages (from openmim<=0.2.1,>0.1.5->autogluon.multimodal==0.6.1->autogluon) (12.6.0)\n",
            "Requirement already satisfied: model-index in /usr/local/lib/python3.8/site-packages (from openmim<=0.2.1,>0.1.5->autogluon.multimodal==0.6.1->autogluon) (0.1.11)\n",
            "Requirement already satisfied: pytz>=2020.1 in /usr/local/lib/python3.8/site-packages (from pandas!=1.4.0,<1.6,>=1.2.5->autogluon.core[all]==0.6.1->autogluon) (2022.6)\n",
            "Requirement already satisfied: python-dateutil>=2.8.1 in /usr/local/lib/python3.8/site-packages (from pandas!=1.4.0,<1.6,>=1.2.5->autogluon.core[all]==0.6.1->autogluon) (2.8.2)\n",
            "Requirement already satisfied: Cython!=0.29.18,>=0.29 in /usr/local/lib/python3.8/site-packages (from pmdarima~=1.8.2->autogluon.timeseries[all]==0.6.1->autogluon) (0.29.32)\n",
            "Requirement already satisfied: urllib3 in /usr/local/lib/python3.8/site-packages (from pmdarima~=1.8.2->autogluon.timeseries[all]==0.6.1->autogluon) (1.26.13)\n",
            "Requirement already satisfied: pyDeprecate>=0.3.1 in /usr/local/lib/python3.8/site-packages (from pytorch-lightning<1.8.0,>=1.7.4->autogluon.multimodal==0.6.1->autogluon) (0.3.2)\n",
            "Requirement already satisfied: tensorboard>=2.9.1 in /usr/local/lib/python3.8/site-packages (from pytorch-lightning<1.8.0,>=1.7.4->autogluon.multimodal==0.6.1->autogluon) (2.11.0)\n",
            "Requirement already satisfied: frozenlist in /usr/local/lib/python3.8/site-packages (from ray[tune]<2.1,>=2.0->autogluon.core[all]==0.6.1->autogluon) (1.3.3)\n",
            "Requirement already satisfied: aiosignal in /usr/local/lib/python3.8/site-packages (from ray[tune]<2.1,>=2.0->autogluon.core[all]==0.6.1->autogluon) (1.3.1)\n",
            "Requirement already satisfied: grpcio<=1.43.0,>=1.32.0 in /usr/local/lib/python3.8/site-packages (from ray[tune]<2.1,>=2.0->autogluon.core[all]==0.6.1->autogluon) (1.43.0)\n",
            "Requirement already satisfied: virtualenv in /usr/local/lib/python3.8/site-packages (from ray[tune]<2.1,>=2.0->autogluon.core[all]==0.6.1->autogluon) (20.17.1)\n",
            "Requirement already satisfied: filelock in /usr/local/lib/python3.8/site-packages (from ray[tune]<2.1,>=2.0->autogluon.core[all]==0.6.1->autogluon) (3.8.2)\n",
            "Requirement already satisfied: protobuf<4.0.0,>=3.15.3 in /usr/local/lib/python3.8/site-packages (from ray[tune]<2.1,>=2.0->autogluon.core[all]==0.6.1->autogluon) (3.20.1)\n",
            "Requirement already satisfied: tensorboardX>=1.9 in /usr/local/lib/python3.8/site-packages (from ray[tune]<2.1,>=2.0->autogluon.core[all]==0.6.1->autogluon) (2.5.1)\n",
            "Requirement already satisfied: idna<4,>=2.5 in /usr/local/lib/python3.8/site-packages (from requests->autogluon.core[all]==0.6.1->autogluon) (3.4)\n",
            "Requirement already satisfied: charset-normalizer<3,>=2 in /usr/local/lib/python3.8/site-packages (from requests->autogluon.core[all]==0.6.1->autogluon) (2.1.1)\n",
            "Requirement already satisfied: certifi>=2017.4.17 in /usr/local/lib/python3.8/site-packages (from requests->autogluon.core[all]==0.6.1->autogluon) (2022.9.24)\n",
            "Requirement already satisfied: imageio>=2.4.1 in /usr/local/lib/python3.8/site-packages (from scikit-image<0.20.0,>=0.19.1->autogluon.multimodal==0.6.1->autogluon) (2.22.4)\n",
            "Requirement already satisfied: tifffile>=2019.7.26 in /usr/local/lib/python3.8/site-packages (from scikit-image<0.20.0,>=0.19.1->autogluon.multimodal==0.6.1->autogluon) (2022.10.10)\n",
            "Requirement already satisfied: PyWavelets>=1.1.1 in /usr/local/lib/python3.8/site-packages (from scikit-image<0.20.0,>=0.19.1->autogluon.multimodal==0.6.1->autogluon) (1.4.1)\n",
            "Requirement already satisfied: threadpoolctl>=2.0.0 in /usr/local/lib/python3.8/site-packages (from scikit-learn<1.2,>=1.0.0->autogluon.core[all]==0.6.1->autogluon) (3.1.0)\n",
            "Requirement already satisfied: numba>=0.53 in /usr/local/lib/python3.8/site-packages (from sktime<0.14,>=0.13.1->autogluon.timeseries[all]==0.6.1->autogluon) (0.56.4)\n",
            "Requirement already satisfied: deprecated>=1.2.13 in /usr/local/lib/python3.8/site-packages (from sktime<0.14,>=0.13.1->autogluon.timeseries[all]==0.6.1->autogluon) (1.2.13)\n",
            "Requirement already satisfied: patsy>=0.5.2 in /usr/local/lib/python3.8/site-packages (from statsmodels~=0.13.0->autogluon.timeseries[all]==0.6.1->autogluon) (0.5.3)\n",
            "Requirement already satisfied: tokenizers!=0.11.3,<0.14,>=0.11.1 in /usr/local/lib/python3.8/site-packages (from transformers<4.24.0,>=4.23.0->autogluon.multimodal==0.6.1->autogluon) (0.13.2)\n",
            "Requirement already satisfied: botocore<1.30.0,>=1.29.28 in /usr/local/lib/python3.8/site-packages (from boto3->autogluon.core[all]==0.6.1->autogluon) (1.29.28)\n",
            "Requirement already satisfied: jmespath<2.0.0,>=0.7.1 in /usr/local/lib/python3.8/site-packages (from boto3->autogluon.core[all]==0.6.1->autogluon) (1.0.1)\n",
            "Requirement already satisfied: s3transfer<0.7.0,>=0.6.0 in /usr/local/lib/python3.8/site-packages (from boto3->autogluon.core[all]==0.6.1->autogluon) (0.6.0)\n",
            "Requirement already satisfied: kiwisolver>=1.0.1 in /usr/local/lib/python3.8/site-packages (from matplotlib->autogluon.core[all]==0.6.1->autogluon) (1.4.4)\n",
            "Requirement already satisfied: pyparsing>=2.2.1 in /usr/local/lib/python3.8/site-packages (from matplotlib->autogluon.core[all]==0.6.1->autogluon) (3.0.9)\n",
            "Requirement already satisfied: cycler>=0.10 in /usr/local/lib/python3.8/site-packages (from matplotlib->autogluon.core[all]==0.6.1->autogluon) (0.11.0)\n",
            "Requirement already satisfied: contourpy>=1.0.1 in /usr/local/lib/python3.8/site-packages (from matplotlib->autogluon.core[all]==0.6.1->autogluon) (1.0.6)\n",
            "Requirement already satisfied: fonttools>=4.22.0 in /usr/local/lib/python3.8/site-packages (from matplotlib->autogluon.core[all]==0.6.1->autogluon) (4.38.0)\n",
            "Requirement already satisfied: pyarrow>=6.0.0 in /usr/local/lib/python3.8/site-packages (from datasets>=2.0.0->evaluate<=0.3.0->autogluon.multimodal==0.6.1->autogluon) (9.0.0)\n",
            "Requirement already satisfied: aiohttp in /usr/local/lib/python3.8/site-packages (from datasets>=2.0.0->evaluate<=0.3.0->autogluon.multimodal==0.6.1->autogluon) (3.8.3)\n",
            "Requirement already satisfied: wrapt<2,>=1.10 in /usr/local/lib/python3.8/site-packages (from deprecated>=1.2.13->sktime<0.14,>=0.13.1->autogluon.timeseries[all]==0.6.1->autogluon) (1.14.1)\n",
            "Requirement already satisfied: zipp>=3.1.0 in /usr/local/lib/python3.8/site-packages (from importlib-resources>=1.4.0->jsonschema<=4.8.0->autogluon.multimodal==0.6.1->autogluon) (3.11.0)\n",
            "Requirement already satisfied: importlib-metadata in /usr/local/lib/python3.8/site-packages (from numba>=0.53->sktime<0.14,>=0.13.1->autogluon.timeseries[all]==0.6.1->autogluon) (5.1.0)\n",
            "Requirement already satisfied: llvmlite<0.40,>=0.39.0dev0 in /usr/local/lib/python3.8/site-packages (from numba>=0.53->sktime<0.14,>=0.13.1->autogluon.timeseries[all]==0.6.1->autogluon) (0.39.1)\n",
            "Requirement already satisfied: locket in /usr/local/lib/python3.8/site-packages (from partd>=0.3.10->dask<=2021.11.2,>=2021.09.1->autogluon.core[all]==0.6.1->autogluon) (1.0.0)\n",
            "Requirement already satisfied: spacy-legacy<3.1.0,>=3.0.10 in /usr/local/lib/python3.8/site-packages (from spacy<4->fastai<2.8,>=2.3.1->autogluon.tabular[all]==0.6.1->autogluon) (3.0.10)\n",
            "Requirement already satisfied: spacy-loggers<2.0.0,>=1.0.0 in /usr/local/lib/python3.8/site-packages (from spacy<4->fastai<2.8,>=2.3.1->autogluon.tabular[all]==0.6.1->autogluon) (1.0.4)\n",
            "Requirement already satisfied: wasabi<1.1.0,>=0.9.1 in /usr/local/lib/python3.8/site-packages (from spacy<4->fastai<2.8,>=2.3.1->autogluon.tabular[all]==0.6.1->autogluon) (0.10.1)\n",
            "Requirement already satisfied: preshed<3.1.0,>=3.0.2 in /usr/local/lib/python3.8/site-packages (from spacy<4->fastai<2.8,>=2.3.1->autogluon.tabular[all]==0.6.1->autogluon) (3.0.8)\n",
            "Requirement already satisfied: langcodes<4.0.0,>=3.2.0 in /usr/local/lib/python3.8/site-packages (from spacy<4->fastai<2.8,>=2.3.1->autogluon.tabular[all]==0.6.1->autogluon) (3.3.0)\n",
            "Requirement already satisfied: murmurhash<1.1.0,>=0.28.0 in /usr/local/lib/python3.8/site-packages (from spacy<4->fastai<2.8,>=2.3.1->autogluon.tabular[all]==0.6.1->autogluon) (1.0.9)\n",
            "Requirement already satisfied: pathy>=0.3.5 in /usr/local/lib/python3.8/site-packages (from spacy<4->fastai<2.8,>=2.3.1->autogluon.tabular[all]==0.6.1->autogluon) (0.10.1)\n",
            "Requirement already satisfied: srsly<3.0.0,>=2.4.3 in /usr/local/lib/python3.8/site-packages (from spacy<4->fastai<2.8,>=2.3.1->autogluon.tabular[all]==0.6.1->autogluon) (2.4.5)\n",
            "Requirement already satisfied: thinc<8.2.0,>=8.1.0 in /usr/local/lib/python3.8/site-packages (from spacy<4->fastai<2.8,>=2.3.1->autogluon.tabular[all]==0.6.1->autogluon) (8.1.5)\n",
            "Requirement already satisfied: typer<0.8.0,>=0.3.0 in /usr/local/lib/python3.8/site-packages (from spacy<4->fastai<2.8,>=2.3.1->autogluon.tabular[all]==0.6.1->autogluon) (0.7.0)\n",
            "Requirement already satisfied: catalogue<2.1.0,>=2.0.6 in /usr/local/lib/python3.8/site-packages (from spacy<4->fastai<2.8,>=2.3.1->autogluon.tabular[all]==0.6.1->autogluon) (2.0.8)\n",
            "Requirement already satisfied: cymem<2.1.0,>=2.0.2 in /usr/local/lib/python3.8/site-packages (from spacy<4->fastai<2.8,>=2.3.1->autogluon.tabular[all]==0.6.1->autogluon) (2.0.7)\n",
            "Requirement already satisfied: tensorboard-plugin-wit>=1.6.0 in /usr/local/lib/python3.8/site-packages (from tensorboard>=2.9.1->pytorch-lightning<1.8.0,>=1.7.4->autogluon.multimodal==0.6.1->autogluon) (1.8.1)\n",
            "Requirement already satisfied: google-auth-oauthlib<0.5,>=0.4.1 in /usr/local/lib/python3.8/site-packages (from tensorboard>=2.9.1->pytorch-lightning<1.8.0,>=1.7.4->autogluon.multimodal==0.6.1->autogluon) (0.4.6)\n",
            "Requirement already satisfied: absl-py>=0.4 in /usr/local/lib/python3.8/site-packages (from tensorboard>=2.9.1->pytorch-lightning<1.8.0,>=1.7.4->autogluon.multimodal==0.6.1->autogluon) (1.3.0)\n",
            "Requirement already satisfied: markdown>=2.6.8 in /usr/local/lib/python3.8/site-packages (from tensorboard>=2.9.1->pytorch-lightning<1.8.0,>=1.7.4->autogluon.multimodal==0.6.1->autogluon) (3.4.1)\n",
            "Requirement already satisfied: google-auth<3,>=1.6.3 in /usr/local/lib/python3.8/site-packages (from tensorboard>=2.9.1->pytorch-lightning<1.8.0,>=1.7.4->autogluon.multimodal==0.6.1->autogluon) (2.15.0)\n",
            "Requirement already satisfied: tensorboard-data-server<0.7.0,>=0.6.0 in /usr/local/lib/python3.8/site-packages (from tensorboard>=2.9.1->pytorch-lightning<1.8.0,>=1.7.4->autogluon.multimodal==0.6.1->autogluon) (0.6.1)\n",
            "Requirement already satisfied: werkzeug>=1.0.1 in /usr/local/lib/python3.8/site-packages (from tensorboard>=2.9.1->pytorch-lightning<1.8.0,>=1.7.4->autogluon.multimodal==0.6.1->autogluon) (2.2.2)\n",
            "Requirement already satisfied: heapdict in /usr/local/lib/python3.8/site-packages (from zict>=0.1.3->distributed<=2021.11.2,>=2021.09.1->autogluon.core[all]==0.6.1->autogluon) (1.0.1)\n",
            "Requirement already satisfied: MarkupSafe>=2.0 in /usr/local/lib/python3.8/site-packages (from jinja2->distributed<=2021.11.2,>=2021.09.1->autogluon.core[all]==0.6.1->autogluon) (2.1.1)\n",
            "Requirement already satisfied: ordered-set in /usr/local/lib/python3.8/site-packages (from model-index->openmim<=0.2.1,>0.1.5->autogluon.multimodal==0.6.1->autogluon) (4.1.0)\n",
            "Requirement already satisfied: tenacity>=6.2.0 in /usr/local/lib/python3.8/site-packages (from plotly->catboost<1.2,>=1.0->autogluon.tabular[all]==0.6.1->autogluon) (8.1.0)\n",
            "Requirement already satisfied: commonmark<0.10.0,>=0.9.0 in /usr/local/lib/python3.8/site-packages (from rich->openmim<=0.2.1,>0.1.5->autogluon.multimodal==0.6.1->autogluon) (0.9.1)\n",
            "Requirement already satisfied: pygments<3.0.0,>=2.6.0 in /usr/local/lib/python3.8/site-packages (from rich->openmim<=0.2.1,>0.1.5->autogluon.multimodal==0.6.1->autogluon) (2.13.0)\n",
            "Requirement already satisfied: distlib<1,>=0.3.6 in /usr/local/lib/python3.8/site-packages (from virtualenv->ray[tune]<2.1,>=2.0->autogluon.core[all]==0.6.1->autogluon) (0.3.6)\n",
            "Requirement already satisfied: platformdirs<3,>=2.4 in /usr/local/lib/python3.8/site-packages (from virtualenv->ray[tune]<2.1,>=2.0->autogluon.core[all]==0.6.1->autogluon) (2.6.0)\n",
            "Requirement already satisfied: multidict<7.0,>=4.5 in /usr/local/lib/python3.8/site-packages (from aiohttp->datasets>=2.0.0->evaluate<=0.3.0->autogluon.multimodal==0.6.1->autogluon) (6.0.3)\n",
            "Requirement already satisfied: yarl<2.0,>=1.0 in /usr/local/lib/python3.8/site-packages (from aiohttp->datasets>=2.0.0->evaluate<=0.3.0->autogluon.multimodal==0.6.1->autogluon) (1.8.2)\n",
            "Requirement already satisfied: async-timeout<5.0,>=4.0.0a3 in /usr/local/lib/python3.8/site-packages (from aiohttp->datasets>=2.0.0->evaluate<=0.3.0->autogluon.multimodal==0.6.1->autogluon) (4.0.2)\n",
            "Requirement already satisfied: rsa<5,>=3.1.4 in /usr/local/lib/python3.8/site-packages (from google-auth<3,>=1.6.3->tensorboard>=2.9.1->pytorch-lightning<1.8.0,>=1.7.4->autogluon.multimodal==0.6.1->autogluon) (4.9)\n",
            "Requirement already satisfied: cachetools<6.0,>=2.0.0 in /usr/local/lib/python3.8/site-packages (from google-auth<3,>=1.6.3->tensorboard>=2.9.1->pytorch-lightning<1.8.0,>=1.7.4->autogluon.multimodal==0.6.1->autogluon) (5.2.0)\n",
            "Requirement already satisfied: pyasn1-modules>=0.2.1 in /usr/local/lib/python3.8/site-packages (from google-auth<3,>=1.6.3->tensorboard>=2.9.1->pytorch-lightning<1.8.0,>=1.7.4->autogluon.multimodal==0.6.1->autogluon) (0.2.8)\n",
            "Requirement already satisfied: requests-oauthlib>=0.7.0 in /usr/local/lib/python3.8/site-packages (from google-auth-oauthlib<0.5,>=0.4.1->tensorboard>=2.9.1->pytorch-lightning<1.8.0,>=1.7.4->autogluon.multimodal==0.6.1->autogluon) (1.3.1)\n",
            "Requirement already satisfied: blis<0.8.0,>=0.7.8 in /usr/local/lib/python3.8/site-packages (from thinc<8.2.0,>=8.1.0->spacy<4->fastai<2.8,>=2.3.1->autogluon.tabular[all]==0.6.1->autogluon) (0.7.9)\n",
            "Requirement already satisfied: confection<1.0.0,>=0.0.1 in /usr/local/lib/python3.8/site-packages (from thinc<8.2.0,>=8.1.0->spacy<4->fastai<2.8,>=2.3.1->autogluon.tabular[all]==0.6.1->autogluon) (0.0.3)\n",
            "Requirement already satisfied: pyasn1<0.5.0,>=0.4.6 in /usr/local/lib/python3.8/site-packages (from pyasn1-modules>=0.2.1->google-auth<3,>=1.6.3->tensorboard>=2.9.1->pytorch-lightning<1.8.0,>=1.7.4->autogluon.multimodal==0.6.1->autogluon) (0.4.8)\n",
            "Requirement already satisfied: oauthlib>=3.0.0 in /usr/local/lib/python3.8/site-packages (from requests-oauthlib>=0.7.0->google-auth-oauthlib<0.5,>=0.4.1->tensorboard>=2.9.1->pytorch-lightning<1.8.0,>=1.7.4->autogluon.multimodal==0.6.1->autogluon) (3.2.2)\n",
            "\u001b[33mWARNING: Running pip as the 'root' user can result in broken permissions and conflicting behaviour with the system package manager. It is recommended to use a virtual environment instead: https://pip.pypa.io/warnings/venv\u001b[0m\u001b[33m\n",
            "\u001b[0m"
          ]
        }
      ]
    },
    {
      "cell_type": "markdown",
      "source": [],
      "metadata": {
        "id": "kpvklL3yyUMh"
      }
    }
  ]
}