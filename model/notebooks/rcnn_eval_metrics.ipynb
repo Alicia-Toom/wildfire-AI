{
 "cells": [
  {
   "cell_type": "code",
   "execution_count": 1,
   "metadata": {},
   "outputs": [],
   "source": [
    "import pickle\n",
    "\n",
    "from torchmetrics.detection.mean_ap import MeanAveragePrecision"
   ]
  },
  {
   "cell_type": "code",
   "execution_count": 2,
   "metadata": {},
   "outputs": [],
   "source": [
    "PROJECT_ROOT = 'C:/code/projects/python/applied-ai/'  # Enter local root dir"
   ]
  },
  {
   "cell_type": "code",
   "execution_count": 3,
   "metadata": {},
   "outputs": [],
   "source": [
    "with open(PROJECT_ROOT + 'data/pickles/map_pred.pkl', 'rb') as f:\n",
    "    MAP_preds = pickle.load(f)\n",
    "\n",
    "with open(PROJECT_ROOT + 'data/pickles/map_target.pkl', 'rb') as f:\n",
    "    MAP_targets = pickle.load(f)"
   ]
  },
  {
   "cell_type": "code",
   "execution_count": 4,
   "metadata": {},
   "outputs": [],
   "source": [
    "metrics = MeanAveragePrecision()\n",
    "metrics.update(MAP_preds, MAP_targets)"
   ]
  },
  {
   "cell_type": "code",
   "execution_count": 5,
   "metadata": {},
   "outputs": [
    {
     "data": {
      "text/plain": [
       "{'map': tensor(0.3073),\n",
       " 'map_50': tensor(0.6371),\n",
       " 'map_75': tensor(0.2525),\n",
       " 'map_small': tensor(0.2783),\n",
       " 'map_medium': tensor(0.2809),\n",
       " 'map_large': tensor(0.3584),\n",
       " 'mar_1': tensor(0.3083),\n",
       " 'mar_10': tensor(0.4550),\n",
       " 'mar_100': tensor(0.4749),\n",
       " 'mar_small': tensor(0.3556),\n",
       " 'mar_medium': tensor(0.4582),\n",
       " 'mar_large': tensor(0.5176),\n",
       " 'map_per_class': tensor(-1.),\n",
       " 'mar_100_per_class': tensor(-1.)}"
      ]
     },
     "execution_count": 5,
     "metadata": {},
     "output_type": "execute_result"
    }
   ],
   "source": [
    "metrics.compute()"
   ]
  },
  {
   "attachments": {},
   "cell_type": "markdown",
   "metadata": {},
   "source": [
    "The Mean Average Precision (MAP) isn't great (~0.3), but it's using all predicted boxes which results in worse accuracy.\n",
    "\n",
    "It would require further accuracy measurements."
   ]
  },
  {
   "cell_type": "markdown",
   "metadata": {},
   "source": []
  }
 ],
 "metadata": {
  "kernelspec": {
   "display_name": "venv310",
   "language": "python",
   "name": "python3"
  },
  "language_info": {
   "codemirror_mode": {
    "name": "ipython",
    "version": 3
   },
   "file_extension": ".py",
   "mimetype": "text/x-python",
   "name": "python",
   "nbconvert_exporter": "python",
   "pygments_lexer": "ipython3",
   "version": "3.10.5"
  },
  "orig_nbformat": 4,
  "vscode": {
   "interpreter": {
    "hash": "bf12dd39f5f7ed06ba50c0dbf677809c828302383f5904e167102ce889f09ad7"
   }
  }
 },
 "nbformat": 4,
 "nbformat_minor": 2
}
